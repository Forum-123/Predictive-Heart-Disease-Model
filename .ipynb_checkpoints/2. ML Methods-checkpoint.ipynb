{
 "cells": [
  {
   "cell_type": "markdown",
   "metadata": {
    "id": "e2Dp9_em9SeZ"
   },
   "source": [
    "# Machine Learning models"
   ]
  },
  {
   "cell_type": "markdown",
   "metadata": {
    "id": "j3h9WGEI9Sep"
   },
   "source": [
    "### 1. Necessary python libraries imported"
   ]
  },
  {
   "cell_type": "code",
   "execution_count": null,
   "metadata": {
    "id": "RV8AP08z9Seq"
   },
   "outputs": [],
   "source": [
    "#Import libraries\n",
    "import pandas as pd\n",
    "import numpy as np\n",
    "from sklearn.model_selection import train_test_split, cross_val_score\n",
    "from scipy import stats\n",
    "import sklearn.metrics as sm\n",
    "from matplotlib import pyplot as plt\n",
    "from sklearn.svm import SVC\n",
    "from sklearn.neighbors import KNeighborsClassifier\n",
    "from sklearn.linear_model import LogisticRegression\n",
    "from sklearn.neural_network import MLPClassifier\n",
    "from sklearn.ensemble import GradientBoostingClassifier, BaggingClassifier\n",
    "from sklearn.metrics import accuracy_score, precision_score, recall_score, classification_report, confusion_matrix, roc_curve, roc_auc_score, plot_confusion_matrix"
   ]
  },
  {
   "cell_type": "markdown",
   "metadata": {},
   "source": [
    "### 2. Dataset is split into train and testing sets"
   ]
  },
  {
   "cell_type": "code",
   "execution_count": null,
   "metadata": {},
   "outputs": [],
   "source": [
    "# Reading the data from the 'heart_data.csv' file\n",
    "data = pd.read_csv('heart_data.csv')"
   ]
  },
  {
   "cell_type": "code",
   "execution_count": null,
   "metadata": {},
   "outputs": [],
   "source": [
    "# Separate target column from the rest of the features\n",
    "X = data.iloc[:, 0:13] # Features\n",
    "y = data.iloc[:, 13] # Target variable"
   ]
  },
  {
   "cell_type": "code",
   "execution_count": null,
   "metadata": {},
   "outputs": [],
   "source": [
    "X"
   ]
  },
  {
   "cell_type": "code",
   "execution_count": 5,
   "metadata": {
    "scrolled": false
   },
   "outputs": [
    {
     "data": {
      "text/plain": [
       "0      0\n",
       "1      1\n",
       "2      1\n",
       "3      0\n",
       "4      0\n",
       "      ..\n",
       "279    1\n",
       "280    1\n",
       "281    1\n",
       "282    1\n",
       "283    0\n",
       "Name: target, Length: 284, dtype: int64"
      ]
     },
     "execution_count": 5,
     "metadata": {},
     "output_type": "execute_result"
    }
   ],
   "source": [
    "y"
   ]
  },
  {
   "cell_type": "code",
   "execution_count": 6,
   "metadata": {},
   "outputs": [],
   "source": [
    "# y = y.values.reshape(-1,1)\n",
    "# print(y)\n",
    "# print(f'Shape of y: {y.shape}')"
   ]
  },
  {
   "cell_type": "code",
   "execution_count": 7,
   "metadata": {},
   "outputs": [
    {
     "name": "stdout",
     "output_type": "stream",
     "text": [
      "Shape of y: (284,)\n"
     ]
    }
   ],
   "source": [
    "print(f'Shape of y: {y.shape}')"
   ]
  },
  {
   "cell_type": "code",
   "execution_count": 8,
   "metadata": {},
   "outputs": [],
   "source": [
    "# 80% training data, 20% testing data\n",
    "X_train, X_test, y_train, y_test = train_test_split(X, y, test_size=0.2, random_state=0)"
   ]
  },
  {
   "cell_type": "code",
   "execution_count": 9,
   "metadata": {},
   "outputs": [
    {
     "name": "stdout",
     "output_type": "stream",
     "text": [
      "Shape of training data: (227, 13), shape of test data: (57, 13) and shape of original data: (284, 13)\n"
     ]
    }
   ],
   "source": [
    "print(f'Shape of training data: {X_train.shape}, shape of test data: {X_test.shape} and shape of original data: {X.shape}')"
   ]
  },
  {
   "cell_type": "markdown",
   "metadata": {},
   "source": [
    "### 3. Function is applied to all classification models"
   ]
  },
  {
   "cell_type": "code",
   "execution_count": 10,
   "metadata": {},
   "outputs": [],
   "source": [
    "# Function \n",
    "def evaluate_model(model):\n",
    "    \n",
    "    # Training the model\n",
    "    model = model.fit(X_train, y_train)\n",
    "    \n",
    "    # Predictions from train data (as close to 100% as possible)\n",
    "    predictions_train = model.predict(X_train)\n",
    "    accuracy_train = accuracy_score(predictions_train, y_train)\n",
    "    print(f'Accuracy of model predicting from training data: {accuracy_train} \\n')\n",
    "    \n",
    "    # Predictions from test data\n",
    "    predictions_test = model.predict(X_test)\n",
    " \n",
    "    # Printing classification report\n",
    "    print(f'Classification Report:\\n {classification_report(y_test, predictions_test)}')\n",
    "\n",
    "    # Generating ROC curve\n",
    "    # predict_proba() returns probability that target = 0 (1st column) and probability that target = 1 (2nd column)\n",
    "    y_scores = model.predict_proba(X_test)\n",
    "    # Extracting the probability for which target = 1 (patient has heart disease)\n",
    "    fpr, tpr, thresholds = roc_curve(y_test, y_scores[:, 1])\n",
    "\n",
    "    # Displaying ROC curve\n",
    "    fig = plt.figure(figsize=(8, 8))\n",
    "    # Diagonal 50% line\n",
    "    plt.plot([0, 1], [0, 1], '--', color='grey')\n",
    "    # Plotting the FPR and TPR produced by the model\n",
    "    plt.plot(fpr, tpr)\n",
    "    plt.xlabel('False Positive Rate (1 - Specificity)', fontsize=14)\n",
    "    plt.ylabel('True Positive Rate (Sensitivity)', fontsize=14)\n",
    "    plt.title('ROC Curve', fontsize=16)\n",
    "    plt.show()\n",
    "    \n",
    "    # Generating evaluation metrics\n",
    "    matrix = confusion_matrix(y_test, predictions_test, labels=[0, 1])\n",
    "    results = [accuracy_score(y_test, predictions_test), precision_score(y_test, predictions_test), recall_score(y_test, predictions_test),\n",
    "                  roc_auc_score(y_test, y_scores[:, 1])]\n",
    "    print(f'Confusion Matrix:\\n {matrix} \\n')\n",
    "    print(f'Accuracy:  {results[0]}')\n",
    "    print(f'Precision: {results[1]}')\n",
    "    print(f'Recall:    {results[2]}')\n",
    "    print(f'AUC:       {str(results[3])} \\n')\n",
    "    \n",
    "    # Displaying confusion matrix (more pleasing to the eye)\n",
    "    print(f'Confusion Matrix Heatmap:\\n {plot_confusion_matrix(model, X_test, y_test)} \\n')\n",
    "\n",
    "    # Cross Validation\n",
    "    # Estimators are classifiers and target is binary so StratifiedKFold is used by default\n",
    "    cv = cross_val_score(model, X, y, cv=5)\n",
    "    print(f'Cross Validation\\n Scores: {cv}')\n",
    "    print(f'Average: {cv.mean()}')\n",
    "    print(f'Standard Deviation: {cv.std()}')\n",
    "    \n",
    "    return((model, cv, results))"
   ]
  },
  {
   "cell_type": "markdown",
   "metadata": {},
   "source": [
    "### 4. Support Vector Classifier"
   ]
  },
  {
   "cell_type": "code",
   "execution_count": 13,
   "metadata": {
    "scrolled": false
   },
   "outputs": [
    {
     "name": "stdout",
     "output_type": "stream",
     "text": [
      "Accuracy of model predicting from training data: 0.8546255506607929 \n",
      "\n",
      "Classification Report:\n",
      "               precision    recall  f1-score   support\n",
      "\n",
      "           0       0.76      0.96      0.85        27\n",
      "           1       0.96      0.73      0.83        30\n",
      "\n",
      "    accuracy                           0.84        57\n",
      "   macro avg       0.86      0.85      0.84        57\n",
      "weighted avg       0.87      0.84      0.84        57\n",
      "\n"
     ]
    },
    {
     "data": {
      "image/png": "[encoded data removed]",
      "text/plain": [
       "<Figure size 576x576 with 1 Axes>"
      ]
     },
     "metadata": {
      "needs_background": "light"
     },
     "output_type": "display_data"
    },
    {
     "name": "stdout",
     "output_type": "stream",
     "text": [
      "Confusion Matrix:\n",
      " [[26  1]\n",
      " [ 8 22]] \n",
      "\n",
      "Accuracy:  0.8421052631578947\n",
      "Precision: 0.9565217391304348\n",
      "Recall:    0.7333333333333333\n",
      "AUC:       0.9641975308641976 \n",
      "\n",
      "Confusion Matrix Heatmap:\n",
      " <sklearn.metrics._plot.confusion_matrix.ConfusionMatrixDisplay object at 0x000001F5B5778908> \n",
      "\n",
      "Cross Validation\n",
      " Scores: [0.84210526 0.87719298 0.78947368 0.87719298 0.78571429]\n",
      "Average: 0.8343358395989975\n",
      "Standard Deviation: 0.04027530712100382\n"
     ]
    },
    {
     "data": {
      "image/png": "[encoded data removed]",
      "text/plain": [
       "<Figure size 432x288 with 2 Axes>"
      ]
     },
     "metadata": {
      "needs_background": "light"
     },
     "output_type": "display_data"
    }
   ],
   "source": [
    "SVC_model, SVC_cv, SVC_results = evaluate_model(SVC(kernel='linear', random_state=0, probability=True))"
   ]
  },
  {
   "cell_type": "code",
   "execution_count": null,
   "metadata": {
    "scrolled": false
   },
   "outputs": [],
   "source": [
    "SVC = SVC(kernel='linear', random_state=0, probability=True)\n",
    "SVC_model, SVC_cv, SVC_results = evaluate_model(SVC)"
   ]
  },
  {
   "cell_type": "markdown",
   "metadata": {},
   "source": [
    "### 5. K Nearest Neighbours"
   ]
  },
  {
   "cell_type": "code",
   "execution_count": null,
   "metadata": {},
   "outputs": [],
   "source": [
    "KNN = KNeighborsClassifier(n_neighbors=5)\n",
    "KNN_model, KNN_cv, KNN_results = evaluate_model(KNN)"
   ]
  },
  {
   "cell_type": "markdown",
   "metadata": {},
   "source": [
    "### 6. Neural Networks"
   ]
  },
  {
   "cell_type": "code",
   "execution_count": null,
   "metadata": {},
   "outputs": [],
   "source": [
    "NN = MLPClassifier(random_state=0, max_iter=1000)\n",
    "NN_model, NN_cv, NN_results = evaluate_model(NN)"
   ]
  },
  {
   "cell_type": "markdown",
   "metadata": {},
   "source": [
    "### 7. Logistic Regression"
   ]
  },
  {
   "cell_type": "code",
   "execution_count": null,
   "metadata": {},
   "outputs": [],
   "source": [
    "LR = LogisticRegression(max_iter=1000, random_state=0)\n",
    "LR_model, LR_cv, LR_results = evaluate_model(LR)"
   ]
  },
  {
   "cell_type": "markdown",
   "metadata": {},
   "source": [
    "Since accuracy scores for training and test data are similar, the Logistic Regression model is not overfitted to training data."
   ]
  },
  {
   "cell_type": "markdown",
   "metadata": {},
   "source": [
    "### 8. Gradient Boosting Trees"
   ]
  },
  {
   "cell_type": "code",
   "execution_count": null,
   "metadata": {
    "scrolled": true
   },
   "outputs": [],
   "source": [
    "GB = GradientBoostingClassifier(random_state=0, n_estimators=50)\n",
    "GB_model, GB_cv, GB_results = evaluate_model(GB)"
   ]
  },
  {
   "cell_type": "markdown",
   "metadata": {},
   "source": [
    "### 9. Results are plotted"
   ]
  },
  {
   "cell_type": "code",
   "execution_count": null,
   "metadata": {},
   "outputs": [],
   "source": [
    "# Plotting cross Validation results\n",
    "models = ('SVC', 'KNN', 'Neural Networks', 'Logistic Regression', 'Gradient Boosting')\n",
    "\n",
    "means = [SVC_cv.mean(), KNN_cv.mean(), NN_cv.mean(), LR_cv.mean(), GB_cv.mean()]\n",
    "stds = [SVC_cv.std(), KNN_cv.std(), NN_cv.std(), LR_cv.std(), GB_cv.std()]\n",
    "\n",
    "fig, ax = plt.subplots(figsize=(15, 8))\n",
    "x = np.arange(len(models))\n",
    "ax.bar(x, means, yerr=stds, align='center', ecolor='black', capsize=10)\n",
    "\n",
    "# Formatting the graph\n",
    "ax.set_title('Cross Validation Means', fontsize=16)\n",
    "ax.set_ylabel('Score', fontsize=14)\n",
    "ax.set_xticks(x)\n",
    "ax.set_xticklabels(models, rotation=0)\n",
    "\n",
    "totals = []  # Contains the number of instances for each attribute\n",
    "for l in ax.patches:\n",
    "    height = l.get_height()\n",
    "    totals.append(height)\n",
    "total = sum(totals)\n",
    "\n",
    "# Arrange text within bars\n",
    "for l in ax.patches:\n",
    "    width = l.get_width()\n",
    "    height = l.get_height()\n",
    "    x, y = l.get_xy()\n",
    "    ax.annotate(f'{round(height, 4)}', (x + width / 2, y + height / 2), ha='center', fontsize=14, color='white', weight='bold')\n",
    "\n",
    "plt.show()"
   ]
  },
  {
   "cell_type": "code",
   "execution_count": null,
   "metadata": {
    "code_folding": [],
    "scrolled": false
   },
   "outputs": [],
   "source": [
    "# Plotting confusion matrix metrics\n",
    "models = ('SVC', 'KNN', 'Neural Networks', 'Logistic Regression', 'Gradient Boosting')\n",
    "\n",
    "for metric in range(len(SVC_results)):\n",
    "    fig, ax = plt.subplots(figsize=(15, 8))\n",
    "    x = np.arange(len(models))\n",
    "    results = [SVC_results[metric], KNN_results[metric], NN_results[metric], LR_results[metric], GB_results[metric]]\n",
    "    ax.bar(x, results)\n",
    "\n",
    "    if metric == 0:\n",
    "        ax.set_title('Accuracy', fontsize=16)\n",
    "    elif metric == 1:\n",
    "        ax.set_title('Precision', fontsize=16)\n",
    "    elif metric == 2:\n",
    "        ax.set_title('Recall', fontsize=16)\n",
    "    elif metric == 3:\n",
    "        ax.set_title('AUC', fontsize=16)\n",
    "\n",
    "    ax.set_ylabel('Score', fontsize=14)\n",
    "    ax.set_xticks(x)\n",
    "    ax.set_xticklabels(models, rotation=0)\n",
    "    \n",
    "    totals = []  # Contains the number of instances for each attribute\n",
    "    for l in ax.patches:\n",
    "        height = l.get_height()\n",
    "        totals.append(height)\n",
    "    total = sum(totals)\n",
    "\n",
    "    # Arrange text within bars\n",
    "    for l in ax.patches:\n",
    "        width = l.get_width()\n",
    "        height = l.get_height()\n",
    "        x, y = l.get_xy()\n",
    "        ax.annotate(f'{round(height, 4)}', (x + width / 2, y + height / 2), ha='center', fontsize=14, color='white', weight='bold')\n",
    "\n",
    "plt.show()"
   ]
  },
  {
   "cell_type": "markdown",
   "metadata": {},
   "source": [
    "### 10. Ensemble Learning"
   ]
  },
  {
   "cell_type": "code",
   "execution_count": null,
   "metadata": {},
   "outputs": [],
   "source": [
    "# Function \n",
    "def evaluate_ensemble_model(ensemble_model):\n",
    "    \n",
    "    # Training the model\n",
    "    ensemble_model = ensemble_model.fit(X_train, y_train)\n",
    "    \n",
    "    # Generate test score\n",
    "    test_score = ensemble_model.score(X_test, y_test)\n",
    "    print('Test Score: %.4f' %test_score)\n",
    "    \n",
    "    # Generate training score\n",
    "    train_score = ensemble_model.score(X_train, y_train)\n",
    "    print('Train Score: %.4f' %train_score)\n",
    "    \n",
    "    results = [test_score, train_score]\n",
    "    \n",
    "    return(ensemble_model, results)"
   ]
  },
  {
   "cell_type": "code",
   "execution_count": null,
   "metadata": {},
   "outputs": [],
   "source": [
    "BG_SVC = BaggingClassifier(base_estimator=SVC, n_estimators=10, max_features=13, max_samples=100, random_state=0, n_jobs=5)\n",
    "BG_SVC_model, BG_SVC_results = evaluate_ensemble_model(BG_SVC)"
   ]
  },
  {
   "cell_type": "code",
   "execution_count": null,
   "metadata": {},
   "outputs": [],
   "source": [
    "BG_KNN = BaggingClassifier(base_estimator=KNN, n_estimators=10, max_features=13, max_samples=100, random_state=0, n_jobs=5)\n",
    "BG_KNN_model, BG_KNN_results = evaluate_ensemble_model(BG_KNN)"
   ]
  },
  {
   "cell_type": "code",
   "execution_count": null,
   "metadata": {},
   "outputs": [],
   "source": [
    "BG_NN = BaggingClassifier(base_estimator=NN, n_estimators=10, max_features=13, max_samples=100, random_state=0, n_jobs=5)\n",
    "BG_NN_model, BG_NN_results = evaluate_ensemble_model(BG_NN)"
   ]
  },
  {
   "cell_type": "code",
   "execution_count": null,
   "metadata": {},
   "outputs": [],
   "source": [
    "BG_LR = BaggingClassifier(base_estimator=LR, n_estimators=10, max_features=13, max_samples=100, random_state=0, n_jobs=5)\n",
    "BG_LR_model, BG_LR_results = evaluate_ensemble_model(BG_LR)"
   ]
  },
  {
   "cell_type": "code",
   "execution_count": null,
   "metadata": {},
   "outputs": [],
   "source": [
    "BG_GB = BaggingClassifier(base_estimator=GB, n_estimators=10, max_features=13, max_samples=100, random_state=0, n_jobs=5)\n",
    "BG_GB_model, BG_GB_results = evaluate_ensemble_model(BG_GB)"
   ]
  },
  {
   "cell_type": "code",
   "execution_count": null,
   "metadata": {},
   "outputs": [],
   "source": [
    "# Plotting cross Validation results\n",
    "ensemble_models = ('SVC', 'KNN', 'Neural Networks', 'Logistic Regression', 'Gradient Boosting')\n",
    "\n",
    "test_scores = [BG_SVC_results[0], BG_KNN_results[0], BG_NN_results[0], BG_LR_results[0], BG_GB_results[0]]\n",
    "training_scores = [BG_SVC_results[1], BG_KNN_results[1], BG_NN_results[1], BG_LR_results[1], BG_GB_results[1]]\n",
    "\n",
    "fig, ax = plt.subplots(figsize=(15, 8))\n",
    "x = np.arange(len(ensemble_models))\n",
    "ax.bar(x-0.2, test_scores, width=0.4, align='center')\n",
    "ax.bar(x+0.2, training_scores, width=0.4, align='center')\n",
    "\n",
    "# Formatting the graph\n",
    "ax.set_title('Ensemble Learning Scores', fontsize=16)\n",
    "ax.set_ylabel('Score', fontsize=14)\n",
    "ax.set_xticks(x)\n",
    "ax.set_xticklabels(ensemble_models, rotation=0)\n",
    "ax.legend(labels=['Test Scores', 'Training Scores'])\n",
    "\n",
    "totals = []  # Contains the number of instances for each attribute\n",
    "for l in ax.patches:\n",
    "    height = l.get_height()\n",
    "    totals.append(height)\n",
    "total = sum(totals)\n",
    "\n",
    "# Arrange text within bars\n",
    "for l in ax.patches:\n",
    "    width = l.get_width()\n",
    "    height = l.get_height()\n",
    "    x, y = l.get_xy()\n",
    "    ax.annotate(f'{round(height, 4)}', (x + width / 2, y + height / 2), ha='center', fontsize=14, color='white', weight='bold')\n",
    "\n",
    "plt.show()"
   ]
  },
  {
   "cell_type": "markdown",
   "metadata": {},
   "source": [
    "<div class=\"mark\">\n",
    "    Bagging classifier is an ensemble classifier which is created using multiple estimators which can be trained using different sampling techniques including pasting (samples drawn without sampling), bagging or bootstrap aggregation (samples drawn with replacement), random subspaces (random features are drawn), random patches (random samples & features are drawn)\n",
    "Bagging classifier helps reduce the variance of individual estimators by sampling technique and combining the predictions.\n",
    "Consider using bagging classifier for algorithm which results in unstable classifiers (classifier having high variance). For example, decision tree results in construction of unstable classifier having high variance and low bias.\n",
    "</div><i class=\"fa fa-lightbulb-o \"></i>"
   ]
  },
  {
   "cell_type": "markdown",
   "metadata": {},
   "source": [
    "### 11. Predictive System"
   ]
  },
  {
   "cell_type": "code",
   "execution_count": null,
   "metadata": {},
   "outputs": [],
   "source": [
    "# Best model to predict \n",
    "GB = GradientBoostingClassifier()\n",
    "GB.fit(X_train, y_train)"
   ]
  },
  {
   "cell_type": "code",
   "execution_count": null,
   "metadata": {},
   "outputs": [],
   "source": [
    "# Instance 23 - Expected result: 0\n",
    "test_user = (58,0,1,150,283,1,2,162,0,1,1,0,3)\n",
    "\n",
    "# Preprocess input data\n",
    "# Change tuple to a numpy array\n",
    "array = np.asarray(test_user)\n",
    "\n",
    "# Reshape array to predict for one instance\n",
    "reshaped_array = array.reshape(1, -1)\n",
    "\n",
    "SVC_predicted_value = SVC.predict(reshaped_array)\n",
    "print(SVC_predicted_value)\n",
    "KNN_predicted_value = KNN.predict(reshaped_array)\n",
    "print(KNN_predicted_value)\n",
    "NN_predicted_value = NN.predict(reshaped_array)\n",
    "print(NN_predicted_value)\n",
    "LR_predicted_value = LR.predict(reshaped_array)\n",
    "print(LR_predicted_value)\n",
    "GB_predicted_value = GB.predict(reshaped_array)\n",
    "print(GB_predicted_value)"
   ]
  },
  {
   "cell_type": "code",
   "execution_count": null,
   "metadata": {},
   "outputs": [],
   "source": [
    "if (predicted_value == 0):\n",
    "    print('Your chance of having Heart Disease is low.')\n",
    "else:\n",
    "    print('Please consult a doctor as a precaution.')"
   ]
  },
  {
   "cell_type": "code",
   "execution_count": null,
   "metadata": {},
   "outputs": [],
   "source": []
  }
 ],
 "metadata": {
  "colab": {
   "name": "3. ML models.ipynb",
   "provenance": []
  },
  "kernelspec": {
   "display_name": "Python 3",
   "language": "python",
   "name": "python3"
  },
  "language_info": {
   "codemirror_mode": {
    "name": "ipython",
    "version": 3
   },
   "file_extension": ".py",
   "mimetype": "text/x-python",
   "name": "python",
   "nbconvert_exporter": "python",
   "pygments_lexer": "ipython3",
   "version": "3.7.9"
  }
 },
 "nbformat": 4,
 "nbformat_minor": 1
}
