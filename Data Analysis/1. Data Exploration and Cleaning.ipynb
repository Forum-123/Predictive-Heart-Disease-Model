{
 "cells": [
  {
   "cell_type": "markdown",
   "metadata": {
    "id": "D6lT159fEeXs"
   },
   "source": [
    "# Data Transformation and Data Cleaning"
   ]
  },
  {
   "cell_type": "markdown",
   "metadata": {
    "id": "1rmKVkL8EeX1"
   },
   "source": [
    "## 1. Necessary Python libraries are loaded"
   ]
  },
  {
   "cell_type": "code",
   "execution_count": 1,
   "metadata": {
    "code_folding": [],
    "id": "w6GDkLJpyo6h"
   },
   "outputs": [],
   "source": [
    "# Import libraries \n",
    "import numpy as np\n",
    "import pandas as pd\n",
    "import matplotlib.pyplot as plt\n",
    "import itertools\n",
    "from pandas.plotting import scatter_matrix\n",
    "import seaborn as sns\n",
    "\n",
    "# Display all columns of a dataframe since Pandas truncates information in dataframes\n",
    "pd.set_option('display.max_columns', None)"
   ]
  },
  {
   "cell_type": "markdown",
   "metadata": {
    "id": "hK6nt8w7EeX2"
   },
   "source": [
    "## 2. Data Cleaning"
   ]
  },
  {
   "cell_type": "code",
   "execution_count": 2,
   "metadata": {
    "colab": {
     "base_uri": "https://localhost:8080/",
     "height": 438
    },
    "id": "VOZP-Nu_yo6q",
    "outputId": "6f094bb9-1205-464c-e4fc-7facb05a5104"
   },
   "outputs": [
    {
     "data": {
      "text/html": [
       "<div>\n",
       "<style scoped>\n",
       "    .dataframe tbody tr th:only-of-type {\n",
       "        vertical-align: middle;\n",
       "    }\n",
       "\n",
       "    .dataframe tbody tr th {\n",
       "        vertical-align: top;\n",
       "    }\n",
       "\n",
       "    .dataframe thead th {\n",
       "        text-align: right;\n",
       "    }\n",
       "</style>\n",
       "<table border=\"1\" class=\"dataframe\">\n",
       "  <thead>\n",
       "    <tr style=\"text-align: right;\">\n",
       "      <th></th>\n",
       "      <th>age</th>\n",
       "      <th>sex</th>\n",
       "      <th>cp</th>\n",
       "      <th>trestbps</th>\n",
       "      <th>chol</th>\n",
       "      <th>fbs</th>\n",
       "      <th>restecg</th>\n",
       "      <th>thalach</th>\n",
       "      <th>exang</th>\n",
       "      <th>oldpeak</th>\n",
       "      <th>slope</th>\n",
       "      <th>ca</th>\n",
       "      <th>thal</th>\n",
       "      <th>target</th>\n",
       "    </tr>\n",
       "  </thead>\n",
       "  <tbody>\n",
       "    <tr>\n",
       "      <th>0</th>\n",
       "      <td>63</td>\n",
       "      <td>1</td>\n",
       "      <td>1</td>\n",
       "      <td>145</td>\n",
       "      <td>233</td>\n",
       "      <td>1</td>\n",
       "      <td>2</td>\n",
       "      <td>150</td>\n",
       "      <td>0</td>\n",
       "      <td>2.3</td>\n",
       "      <td>3</td>\n",
       "      <td>0</td>\n",
       "      <td>6</td>\n",
       "      <td>0</td>\n",
       "    </tr>\n",
       "    <tr>\n",
       "      <th>1</th>\n",
       "      <td>67</td>\n",
       "      <td>1</td>\n",
       "      <td>4</td>\n",
       "      <td>160</td>\n",
       "      <td>286</td>\n",
       "      <td>0</td>\n",
       "      <td>2</td>\n",
       "      <td>108</td>\n",
       "      <td>1</td>\n",
       "      <td>1.5</td>\n",
       "      <td>2</td>\n",
       "      <td>3</td>\n",
       "      <td>3</td>\n",
       "      <td>2</td>\n",
       "    </tr>\n",
       "    <tr>\n",
       "      <th>2</th>\n",
       "      <td>67</td>\n",
       "      <td>1</td>\n",
       "      <td>4</td>\n",
       "      <td>120</td>\n",
       "      <td>229</td>\n",
       "      <td>0</td>\n",
       "      <td>2</td>\n",
       "      <td>129</td>\n",
       "      <td>1</td>\n",
       "      <td>2.6</td>\n",
       "      <td>2</td>\n",
       "      <td>2</td>\n",
       "      <td>7</td>\n",
       "      <td>1</td>\n",
       "    </tr>\n",
       "    <tr>\n",
       "      <th>3</th>\n",
       "      <td>37</td>\n",
       "      <td>1</td>\n",
       "      <td>3</td>\n",
       "      <td>130</td>\n",
       "      <td>250</td>\n",
       "      <td>0</td>\n",
       "      <td>0</td>\n",
       "      <td>187</td>\n",
       "      <td>0</td>\n",
       "      <td>3.5</td>\n",
       "      <td>3</td>\n",
       "      <td>0</td>\n",
       "      <td>3</td>\n",
       "      <td>0</td>\n",
       "    </tr>\n",
       "    <tr>\n",
       "      <th>4</th>\n",
       "      <td>41</td>\n",
       "      <td>0</td>\n",
       "      <td>2</td>\n",
       "      <td>130</td>\n",
       "      <td>204</td>\n",
       "      <td>0</td>\n",
       "      <td>2</td>\n",
       "      <td>172</td>\n",
       "      <td>0</td>\n",
       "      <td>1.4</td>\n",
       "      <td>1</td>\n",
       "      <td>0</td>\n",
       "      <td>3</td>\n",
       "      <td>0</td>\n",
       "    </tr>\n",
       "  </tbody>\n",
       "</table>\n",
       "</div>"
      ],
      "text/plain": [
       "   age  sex  cp  trestbps  chol  fbs  restecg  thalach  exang  oldpeak  slope  \\\n",
       "0   63    1   1       145   233    1        2      150      0      2.3      3   \n",
       "1   67    1   4       160   286    0        2      108      1      1.5      2   \n",
       "2   67    1   4       120   229    0        2      129      1      2.6      2   \n",
       "3   37    1   3       130   250    0        0      187      0      3.5      3   \n",
       "4   41    0   2       130   204    0        2      172      0      1.4      1   \n",
       "\n",
       "  ca thal  target  \n",
       "0  0    6       0  \n",
       "1  3    3       2  \n",
       "2  2    7       1  \n",
       "3  0    3       0  \n",
       "4  0    3       0  "
      ]
     },
     "execution_count": 2,
     "metadata": {},
     "output_type": "execute_result"
    }
   ],
   "source": [
    "# Load heart dataset obtained from Kaggle\n",
    "data = pd.read_csv('heart.csv')\n",
    "\n",
    "# Display top 5 rows of dataset\n",
    "data.head(5)"
   ]
  },
  {
   "cell_type": "code",
   "execution_count": 3,
   "metadata": {
    "id": "EfiECi0JEeX4",
    "scrolled": true
   },
   "outputs": [
    {
     "name": "stdout",
     "output_type": "stream",
     "text": [
      "Heart dataset has 303 rows and 14 columns\n"
     ]
    }
   ],
   "source": [
    "# Identify shape of dataset\n",
    "print(f\"Heart dataset has {data.shape[0]} rows and {data.shape[1]} columns\")"
   ]
  },
  {
   "cell_type": "code",
   "execution_count": 4,
   "metadata": {},
   "outputs": [
    {
     "data": {
      "text/plain": [
       "Index(['age', 'sex', 'cp', 'trestbps', 'chol', 'fbs', 'restecg', 'thalach',\n",
       "       'exang', 'oldpeak', 'slope', 'ca', 'thal', 'target'],\n",
       "      dtype='object')"
      ]
     },
     "execution_count": 4,
     "metadata": {},
     "output_type": "execute_result"
    }
   ],
   "source": [
    "# View all column names\n",
    "data.columns"
   ]
  },
  {
   "cell_type": "code",
   "execution_count": 5,
   "metadata": {},
   "outputs": [
    {
     "name": "stdout",
     "output_type": "stream",
     "text": [
      "<class 'pandas.core.frame.DataFrame'>\n",
      "RangeIndex: 303 entries, 0 to 302\n",
      "Data columns (total 14 columns):\n",
      " #   Column    Non-Null Count  Dtype  \n",
      "---  ------    --------------  -----  \n",
      " 0   age       303 non-null    int64  \n",
      " 1   sex       303 non-null    int64  \n",
      " 2   cp        303 non-null    int64  \n",
      " 3   trestbps  303 non-null    int64  \n",
      " 4   chol      303 non-null    int64  \n",
      " 5   fbs       303 non-null    int64  \n",
      " 6   restecg   303 non-null    int64  \n",
      " 7   thalach   303 non-null    int64  \n",
      " 8   exang     303 non-null    int64  \n",
      " 9   oldpeak   303 non-null    float64\n",
      " 10  slope     303 non-null    int64  \n",
      " 11  ca        303 non-null    object \n",
      " 12  thal      303 non-null    object \n",
      " 13  target    303 non-null    int64  \n",
      "dtypes: float64(1), int64(11), object(2)\n",
      "memory usage: 33.3+ KB\n"
     ]
    }
   ],
   "source": [
    "# View data types of columns in the dataset and number of non-null values\n",
    "data.info()"
   ]
  },
  {
   "cell_type": "markdown",
   "metadata": {},
   "source": [
    "#### Check unique values for columns"
   ]
  },
  {
   "cell_type": "code",
   "execution_count": 6,
   "metadata": {},
   "outputs": [
    {
     "data": {
      "text/plain": [
       "age          41\n",
       "sex           2\n",
       "cp            4\n",
       "trestbps     50\n",
       "chol        152\n",
       "fbs           2\n",
       "restecg       3\n",
       "thalach      91\n",
       "exang         2\n",
       "oldpeak      40\n",
       "slope         3\n",
       "ca            5\n",
       "thal          4\n",
       "target        5\n",
       "dtype: int64"
      ]
     },
     "execution_count": 6,
     "metadata": {},
     "output_type": "execute_result"
    }
   ],
   "source": [
    "# Check number of unique values in each column\n",
    "data.nunique()"
   ]
  },
  {
   "cell_type": "markdown",
   "metadata": {},
   "source": [
    "According to the [documentation](https://archive.ics.uci.edu/ml/datasets/Heart+Disease) for this UCI Heart Disease dataset, the 'ca' column should range from 0 to 3. However, the `.nunique()` function showed 5 values ranging from ? to 3 instead. So rows with a question mark in the 'ca' column need to be removed."
   ]
  },
  {
   "cell_type": "code",
   "execution_count": 7,
   "metadata": {},
   "outputs": [
    {
     "data": {
      "text/plain": [
       "array(['0', '3', '2', '1', '?'], dtype=object)"
      ]
     },
     "execution_count": 7,
     "metadata": {},
     "output_type": "execute_result"
    }
   ],
   "source": [
    "# View the unique values in the 'ca' column\n",
    "data['ca'].unique()"
   ]
  },
  {
   "cell_type": "code",
   "execution_count": 8,
   "metadata": {},
   "outputs": [
    {
     "data": {
      "text/plain": [
       "0    176\n",
       "1     65\n",
       "2     38\n",
       "3     20\n",
       "?      4\n",
       "Name: ca, dtype: int64"
      ]
     },
     "execution_count": 8,
     "metadata": {},
     "output_type": "execute_result"
    }
   ],
   "source": [
    "# Count the number of instances with each value\n",
    "data['ca'].value_counts()"
   ]
  },
  {
   "cell_type": "code",
   "execution_count": 9,
   "metadata": {},
   "outputs": [
    {
     "data": {
      "text/html": [
       "<div>\n",
       "<style scoped>\n",
       "    .dataframe tbody tr th:only-of-type {\n",
       "        vertical-align: middle;\n",
       "    }\n",
       "\n",
       "    .dataframe tbody tr th {\n",
       "        vertical-align: top;\n",
       "    }\n",
       "\n",
       "    .dataframe thead th {\n",
       "        text-align: right;\n",
       "    }\n",
       "</style>\n",
       "<table border=\"1\" class=\"dataframe\">\n",
       "  <thead>\n",
       "    <tr style=\"text-align: right;\">\n",
       "      <th></th>\n",
       "      <th>age</th>\n",
       "      <th>sex</th>\n",
       "      <th>cp</th>\n",
       "      <th>trestbps</th>\n",
       "      <th>chol</th>\n",
       "      <th>fbs</th>\n",
       "      <th>restecg</th>\n",
       "      <th>thalach</th>\n",
       "      <th>exang</th>\n",
       "      <th>oldpeak</th>\n",
       "      <th>slope</th>\n",
       "      <th>ca</th>\n",
       "      <th>thal</th>\n",
       "      <th>target</th>\n",
       "    </tr>\n",
       "  </thead>\n",
       "  <tbody>\n",
       "    <tr>\n",
       "      <th>166</th>\n",
       "      <td>52</td>\n",
       "      <td>1</td>\n",
       "      <td>3</td>\n",
       "      <td>138</td>\n",
       "      <td>223</td>\n",
       "      <td>0</td>\n",
       "      <td>0</td>\n",
       "      <td>169</td>\n",
       "      <td>0</td>\n",
       "      <td>0.0</td>\n",
       "      <td>1</td>\n",
       "      <td>?</td>\n",
       "      <td>3</td>\n",
       "      <td>0</td>\n",
       "    </tr>\n",
       "    <tr>\n",
       "      <th>192</th>\n",
       "      <td>43</td>\n",
       "      <td>1</td>\n",
       "      <td>4</td>\n",
       "      <td>132</td>\n",
       "      <td>247</td>\n",
       "      <td>1</td>\n",
       "      <td>2</td>\n",
       "      <td>143</td>\n",
       "      <td>1</td>\n",
       "      <td>0.1</td>\n",
       "      <td>2</td>\n",
       "      <td>?</td>\n",
       "      <td>7</td>\n",
       "      <td>1</td>\n",
       "    </tr>\n",
       "    <tr>\n",
       "      <th>287</th>\n",
       "      <td>58</td>\n",
       "      <td>1</td>\n",
       "      <td>2</td>\n",
       "      <td>125</td>\n",
       "      <td>220</td>\n",
       "      <td>0</td>\n",
       "      <td>0</td>\n",
       "      <td>144</td>\n",
       "      <td>0</td>\n",
       "      <td>0.4</td>\n",
       "      <td>2</td>\n",
       "      <td>?</td>\n",
       "      <td>7</td>\n",
       "      <td>0</td>\n",
       "    </tr>\n",
       "    <tr>\n",
       "      <th>302</th>\n",
       "      <td>38</td>\n",
       "      <td>1</td>\n",
       "      <td>3</td>\n",
       "      <td>138</td>\n",
       "      <td>175</td>\n",
       "      <td>0</td>\n",
       "      <td>0</td>\n",
       "      <td>173</td>\n",
       "      <td>0</td>\n",
       "      <td>0.0</td>\n",
       "      <td>1</td>\n",
       "      <td>?</td>\n",
       "      <td>3</td>\n",
       "      <td>0</td>\n",
       "    </tr>\n",
       "  </tbody>\n",
       "</table>\n",
       "</div>"
      ],
      "text/plain": [
       "     age  sex  cp  trestbps  chol  fbs  restecg  thalach  exang  oldpeak  \\\n",
       "166   52    1   3       138   223    0        0      169      0      0.0   \n",
       "192   43    1   4       132   247    1        2      143      1      0.1   \n",
       "287   58    1   2       125   220    0        0      144      0      0.4   \n",
       "302   38    1   3       138   175    0        0      173      0      0.0   \n",
       "\n",
       "     slope ca thal  target  \n",
       "166      1  ?    3       0  \n",
       "192      2  ?    7       1  \n",
       "287      2  ?    7       0  \n",
       "302      1  ?    3       0  "
      ]
     },
     "execution_count": 9,
     "metadata": {},
     "output_type": "execute_result"
    }
   ],
   "source": [
    "# Find the 4 rows with the value of '?'\n",
    "data[data['ca'] == '?']"
   ]
  },
  {
   "cell_type": "code",
   "execution_count": 42,
   "metadata": {
    "code_folding": [],
    "scrolled": true
   },
   "outputs": [
    {
     "data": {
      "text/plain": [
       "array([0, 3, 2, 1], dtype=int64)"
      ]
     },
     "execution_count": 42,
     "metadata": {},
     "output_type": "execute_result"
    }
   ],
   "source": [
    "# Replace each '?' with NaN as '?' is incorrect for the dataset\n",
    "data.loc[data['ca'] == '?', 'ca'] = np.NaN\n",
    "\n",
    "data['ca'] = data['ca'].apply(int)\n",
    "data['ca'].unique()"
   ]
  },
  {
   "cell_type": "markdown",
   "metadata": {},
   "source": [
    "Also, according to the [documentation](https://archive.ics.uci.edu/ml/datasets/Heart+Disease) for this UCI Heart Disease dataset, the 'thal' column should contain 3, 6 and 7. However, the `.nunique()` function showed 4 values, including ?. So rows with a question mark in the 'thal' column needs to be removed."
   ]
  },
  {
   "cell_type": "code",
   "execution_count": 11,
   "metadata": {},
   "outputs": [
    {
     "data": {
      "text/plain": [
       "array(['6', '3', '7', '?'], dtype=object)"
      ]
     },
     "execution_count": 11,
     "metadata": {},
     "output_type": "execute_result"
    }
   ],
   "source": [
    "# View the unique values in the 'thal' column\n",
    "data['thal'].unique()"
   ]
  },
  {
   "cell_type": "code",
   "execution_count": 12,
   "metadata": {},
   "outputs": [
    {
     "data": {
      "text/plain": [
       "3    166\n",
       "7    117\n",
       "6     18\n",
       "?      2\n",
       "Name: thal, dtype: int64"
      ]
     },
     "execution_count": 12,
     "metadata": {},
     "output_type": "execute_result"
    }
   ],
   "source": [
    "# Count the number of instances with each value\n",
    "data['thal'].value_counts()"
   ]
  },
  {
   "cell_type": "code",
   "execution_count": 13,
   "metadata": {},
   "outputs": [
    {
     "data": {
      "text/html": [
       "<div>\n",
       "<style scoped>\n",
       "    .dataframe tbody tr th:only-of-type {\n",
       "        vertical-align: middle;\n",
       "    }\n",
       "\n",
       "    .dataframe tbody tr th {\n",
       "        vertical-align: top;\n",
       "    }\n",
       "\n",
       "    .dataframe thead th {\n",
       "        text-align: right;\n",
       "    }\n",
       "</style>\n",
       "<table border=\"1\" class=\"dataframe\">\n",
       "  <thead>\n",
       "    <tr style=\"text-align: right;\">\n",
       "      <th></th>\n",
       "      <th>age</th>\n",
       "      <th>sex</th>\n",
       "      <th>cp</th>\n",
       "      <th>trestbps</th>\n",
       "      <th>chol</th>\n",
       "      <th>fbs</th>\n",
       "      <th>restecg</th>\n",
       "      <th>thalach</th>\n",
       "      <th>exang</th>\n",
       "      <th>oldpeak</th>\n",
       "      <th>slope</th>\n",
       "      <th>ca</th>\n",
       "      <th>thal</th>\n",
       "      <th>target</th>\n",
       "    </tr>\n",
       "  </thead>\n",
       "  <tbody>\n",
       "    <tr>\n",
       "      <th>87</th>\n",
       "      <td>53</td>\n",
       "      <td>0</td>\n",
       "      <td>3</td>\n",
       "      <td>128</td>\n",
       "      <td>216</td>\n",
       "      <td>0</td>\n",
       "      <td>2</td>\n",
       "      <td>115</td>\n",
       "      <td>0</td>\n",
       "      <td>0.0</td>\n",
       "      <td>1</td>\n",
       "      <td>0</td>\n",
       "      <td>?</td>\n",
       "      <td>0</td>\n",
       "    </tr>\n",
       "    <tr>\n",
       "      <th>266</th>\n",
       "      <td>52</td>\n",
       "      <td>1</td>\n",
       "      <td>4</td>\n",
       "      <td>128</td>\n",
       "      <td>204</td>\n",
       "      <td>1</td>\n",
       "      <td>0</td>\n",
       "      <td>156</td>\n",
       "      <td>1</td>\n",
       "      <td>1.0</td>\n",
       "      <td>2</td>\n",
       "      <td>0</td>\n",
       "      <td>?</td>\n",
       "      <td>2</td>\n",
       "    </tr>\n",
       "  </tbody>\n",
       "</table>\n",
       "</div>"
      ],
      "text/plain": [
       "     age  sex  cp  trestbps  chol  fbs  restecg  thalach  exang  oldpeak  \\\n",
       "87    53    0   3       128   216    0        2      115      0      0.0   \n",
       "266   52    1   4       128   204    1        0      156      1      1.0   \n",
       "\n",
       "     slope ca thal  target  \n",
       "87       1  0    ?       0  \n",
       "266      2  0    ?       2  "
      ]
     },
     "execution_count": 13,
     "metadata": {},
     "output_type": "execute_result"
    }
   ],
   "source": [
    "# Find the 2 rows with the value of '?'\n",
    "data[data['thal'] == '?']"
   ]
  },
  {
   "cell_type": "code",
   "execution_count": 43,
   "metadata": {
    "scrolled": true
   },
   "outputs": [
    {
     "data": {
      "text/plain": [
       "array([6, 3, 7], dtype=int64)"
      ]
     },
     "execution_count": 43,
     "metadata": {},
     "output_type": "execute_result"
    }
   ],
   "source": [
    "# Replace each '?' with NaN as '?' is incorrect for the dataset\n",
    "data.loc[data['thal'] == '?', 'thal'] = np.NaN\n",
    "\n",
    "data['thal'] = data['thal'].apply(int)\n",
    "data['thal'].unique()"
   ]
  },
  {
   "cell_type": "markdown",
   "metadata": {},
   "source": [
    "Also, according to the [documentation](https://archive.ics.uci.edu/ml/datasets/Heart+Disease) for this UCI Heart Disease dataset, the 'target' column should contain 0 and 1. However, the `.nunique()` function showed 5 values, ranging from 0 to 4. So rows with 1, 2, 3 and 4 in the 'target' column are replaced with 1, since 0 represents absence of disease and 1, 2, 3 and 4 represent presence of disease."
   ]
  },
  {
   "cell_type": "code",
   "execution_count": 44,
   "metadata": {},
   "outputs": [
    {
     "data": {
      "text/plain": [
       "array([0, 1], dtype=int64)"
      ]
     },
     "execution_count": 44,
     "metadata": {},
     "output_type": "execute_result"
    }
   ],
   "source": [
    "# View the unique values in the 'target' column\n",
    "data['target'].unique()"
   ]
  },
  {
   "cell_type": "code",
   "execution_count": 45,
   "metadata": {},
   "outputs": [
    {
     "data": {
      "text/plain": [
       "0    158\n",
       "1    126\n",
       "Name: target, dtype: int64"
      ]
     },
     "execution_count": 45,
     "metadata": {},
     "output_type": "execute_result"
    }
   ],
   "source": [
    "# Count the number of instances with each value\n",
    "data['target'].value_counts()"
   ]
  },
  {
   "cell_type": "code",
   "execution_count": 46,
   "metadata": {
    "scrolled": true
   },
   "outputs": [
    {
     "data": {
      "text/html": [
       "<div>\n",
       "<style scoped>\n",
       "    .dataframe tbody tr th:only-of-type {\n",
       "        vertical-align: middle;\n",
       "    }\n",
       "\n",
       "    .dataframe tbody tr th {\n",
       "        vertical-align: top;\n",
       "    }\n",
       "\n",
       "    .dataframe thead th {\n",
       "        text-align: right;\n",
       "    }\n",
       "</style>\n",
       "<table border=\"1\" class=\"dataframe\">\n",
       "  <thead>\n",
       "    <tr style=\"text-align: right;\">\n",
       "      <th></th>\n",
       "      <th>age</th>\n",
       "      <th>sex</th>\n",
       "      <th>cp</th>\n",
       "      <th>trestbps</th>\n",
       "      <th>chol</th>\n",
       "      <th>fbs</th>\n",
       "      <th>restecg</th>\n",
       "      <th>thalach</th>\n",
       "      <th>exang</th>\n",
       "      <th>oldpeak</th>\n",
       "      <th>slope</th>\n",
       "      <th>ca</th>\n",
       "      <th>thal</th>\n",
       "      <th>target</th>\n",
       "    </tr>\n",
       "  </thead>\n",
       "  <tbody>\n",
       "    <tr>\n",
       "      <th>1</th>\n",
       "      <td>67</td>\n",
       "      <td>1</td>\n",
       "      <td>4</td>\n",
       "      <td>160</td>\n",
       "      <td>286</td>\n",
       "      <td>0</td>\n",
       "      <td>2</td>\n",
       "      <td>108</td>\n",
       "      <td>1</td>\n",
       "      <td>1.5</td>\n",
       "      <td>2</td>\n",
       "      <td>3</td>\n",
       "      <td>3</td>\n",
       "      <td>1</td>\n",
       "    </tr>\n",
       "    <tr>\n",
       "      <th>2</th>\n",
       "      <td>67</td>\n",
       "      <td>1</td>\n",
       "      <td>4</td>\n",
       "      <td>120</td>\n",
       "      <td>229</td>\n",
       "      <td>0</td>\n",
       "      <td>2</td>\n",
       "      <td>129</td>\n",
       "      <td>1</td>\n",
       "      <td>2.6</td>\n",
       "      <td>2</td>\n",
       "      <td>2</td>\n",
       "      <td>7</td>\n",
       "      <td>1</td>\n",
       "    </tr>\n",
       "    <tr>\n",
       "      <th>6</th>\n",
       "      <td>62</td>\n",
       "      <td>0</td>\n",
       "      <td>4</td>\n",
       "      <td>140</td>\n",
       "      <td>268</td>\n",
       "      <td>0</td>\n",
       "      <td>2</td>\n",
       "      <td>160</td>\n",
       "      <td>0</td>\n",
       "      <td>3.6</td>\n",
       "      <td>3</td>\n",
       "      <td>2</td>\n",
       "      <td>3</td>\n",
       "      <td>1</td>\n",
       "    </tr>\n",
       "    <tr>\n",
       "      <th>8</th>\n",
       "      <td>63</td>\n",
       "      <td>1</td>\n",
       "      <td>4</td>\n",
       "      <td>130</td>\n",
       "      <td>254</td>\n",
       "      <td>0</td>\n",
       "      <td>2</td>\n",
       "      <td>147</td>\n",
       "      <td>0</td>\n",
       "      <td>1.4</td>\n",
       "      <td>2</td>\n",
       "      <td>1</td>\n",
       "      <td>7</td>\n",
       "      <td>1</td>\n",
       "    </tr>\n",
       "    <tr>\n",
       "      <th>9</th>\n",
       "      <td>53</td>\n",
       "      <td>1</td>\n",
       "      <td>4</td>\n",
       "      <td>140</td>\n",
       "      <td>203</td>\n",
       "      <td>1</td>\n",
       "      <td>2</td>\n",
       "      <td>155</td>\n",
       "      <td>1</td>\n",
       "      <td>3.1</td>\n",
       "      <td>3</td>\n",
       "      <td>0</td>\n",
       "      <td>7</td>\n",
       "      <td>1</td>\n",
       "    </tr>\n",
       "    <tr>\n",
       "      <th>...</th>\n",
       "      <td>...</td>\n",
       "      <td>...</td>\n",
       "      <td>...</td>\n",
       "      <td>...</td>\n",
       "      <td>...</td>\n",
       "      <td>...</td>\n",
       "      <td>...</td>\n",
       "      <td>...</td>\n",
       "      <td>...</td>\n",
       "      <td>...</td>\n",
       "      <td>...</td>\n",
       "      <td>...</td>\n",
       "      <td>...</td>\n",
       "      <td>...</td>\n",
       "    </tr>\n",
       "    <tr>\n",
       "      <th>297</th>\n",
       "      <td>57</td>\n",
       "      <td>0</td>\n",
       "      <td>4</td>\n",
       "      <td>140</td>\n",
       "      <td>241</td>\n",
       "      <td>0</td>\n",
       "      <td>0</td>\n",
       "      <td>123</td>\n",
       "      <td>1</td>\n",
       "      <td>0.2</td>\n",
       "      <td>2</td>\n",
       "      <td>0</td>\n",
       "      <td>7</td>\n",
       "      <td>1</td>\n",
       "    </tr>\n",
       "    <tr>\n",
       "      <th>298</th>\n",
       "      <td>45</td>\n",
       "      <td>1</td>\n",
       "      <td>1</td>\n",
       "      <td>110</td>\n",
       "      <td>264</td>\n",
       "      <td>0</td>\n",
       "      <td>0</td>\n",
       "      <td>132</td>\n",
       "      <td>0</td>\n",
       "      <td>1.2</td>\n",
       "      <td>2</td>\n",
       "      <td>0</td>\n",
       "      <td>7</td>\n",
       "      <td>1</td>\n",
       "    </tr>\n",
       "    <tr>\n",
       "      <th>299</th>\n",
       "      <td>68</td>\n",
       "      <td>1</td>\n",
       "      <td>4</td>\n",
       "      <td>144</td>\n",
       "      <td>193</td>\n",
       "      <td>1</td>\n",
       "      <td>0</td>\n",
       "      <td>141</td>\n",
       "      <td>0</td>\n",
       "      <td>3.4</td>\n",
       "      <td>2</td>\n",
       "      <td>2</td>\n",
       "      <td>7</td>\n",
       "      <td>1</td>\n",
       "    </tr>\n",
       "    <tr>\n",
       "      <th>300</th>\n",
       "      <td>57</td>\n",
       "      <td>1</td>\n",
       "      <td>4</td>\n",
       "      <td>130</td>\n",
       "      <td>131</td>\n",
       "      <td>0</td>\n",
       "      <td>0</td>\n",
       "      <td>115</td>\n",
       "      <td>1</td>\n",
       "      <td>1.2</td>\n",
       "      <td>2</td>\n",
       "      <td>1</td>\n",
       "      <td>7</td>\n",
       "      <td>1</td>\n",
       "    </tr>\n",
       "    <tr>\n",
       "      <th>301</th>\n",
       "      <td>57</td>\n",
       "      <td>0</td>\n",
       "      <td>2</td>\n",
       "      <td>130</td>\n",
       "      <td>236</td>\n",
       "      <td>0</td>\n",
       "      <td>2</td>\n",
       "      <td>174</td>\n",
       "      <td>0</td>\n",
       "      <td>0.0</td>\n",
       "      <td>2</td>\n",
       "      <td>1</td>\n",
       "      <td>3</td>\n",
       "      <td>1</td>\n",
       "    </tr>\n",
       "  </tbody>\n",
       "</table>\n",
       "<p>126 rows × 14 columns</p>\n",
       "</div>"
      ],
      "text/plain": [
       "     age  sex  cp  trestbps  chol  fbs  restecg  thalach  exang  oldpeak  \\\n",
       "1     67    1   4       160   286    0        2      108      1      1.5   \n",
       "2     67    1   4       120   229    0        2      129      1      2.6   \n",
       "6     62    0   4       140   268    0        2      160      0      3.6   \n",
       "8     63    1   4       130   254    0        2      147      0      1.4   \n",
       "9     53    1   4       140   203    1        2      155      1      3.1   \n",
       "..   ...  ...  ..       ...   ...  ...      ...      ...    ...      ...   \n",
       "297   57    0   4       140   241    0        0      123      1      0.2   \n",
       "298   45    1   1       110   264    0        0      132      0      1.2   \n",
       "299   68    1   4       144   193    1        0      141      0      3.4   \n",
       "300   57    1   4       130   131    0        0      115      1      1.2   \n",
       "301   57    0   2       130   236    0        2      174      0      0.0   \n",
       "\n",
       "     slope  ca  thal  target  \n",
       "1        2   3     3       1  \n",
       "2        2   2     7       1  \n",
       "6        3   2     3       1  \n",
       "8        2   1     7       1  \n",
       "9        3   0     7       1  \n",
       "..     ...  ..   ...     ...  \n",
       "297      2   0     7       1  \n",
       "298      2   0     7       1  \n",
       "299      2   2     7       1  \n",
       "300      2   1     7       1  \n",
       "301      2   1     3       1  \n",
       "\n",
       "[126 rows x 14 columns]"
      ]
     },
     "execution_count": 46,
     "metadata": {},
     "output_type": "execute_result"
    }
   ],
   "source": [
    "# Find the rows with the value of 1, 2, 3 and 4\n",
    "data[(data['target'] >= 1) & (data['target'] <= 4)]"
   ]
  },
  {
   "cell_type": "code",
   "execution_count": 47,
   "metadata": {},
   "outputs": [
    {
     "data": {
      "text/plain": [
       "array([0, 1], dtype=int64)"
      ]
     },
     "execution_count": 47,
     "metadata": {},
     "output_type": "execute_result"
    }
   ],
   "source": [
    "# Replace each value between 1 and 4 with 1\n",
    "data[['target']] = data[['target']].replace(dict.fromkeys([1, 2, 3, 4], 1))\n",
    "\n",
    "data['target'].unique()"
   ]
  },
  {
   "cell_type": "markdown",
   "metadata": {},
   "source": [
    "#### Sort out duplicate rows and null values"
   ]
  },
  {
   "cell_type": "code",
   "execution_count": 48,
   "metadata": {
    "scrolled": true
   },
   "outputs": [
    {
     "name": "stdout",
     "output_type": "stream",
     "text": [
      "Any duplicates? False\n",
      "0 duplicated rows\n",
      "\n",
      "Empty DataFrame\n",
      "Columns: [age, sex, cp, trestbps, chol, fbs, restecg, thalach, exang, oldpeak, slope, ca, thal, target]\n",
      "Index: []\n",
      "\n",
      "Any duplicates? False\n",
      "0 duplicated rows\n"
     ]
    }
   ],
   "source": [
    "# Check for duplicate rows\n",
    "print(f'Any duplicates? {data.duplicated().values.any()}')\n",
    "print(f\"{data.duplicated().sum()} duplicated rows\\n\")\n",
    "\n",
    "# View all duplicated rows\n",
    "duplicateRows = data[data.duplicated(keep=False)]\n",
    "print(duplicateRows)\n",
    "\n",
    "# Drop duplicate row (164)\n",
    "data = data.drop_duplicates(subset=None, keep='first', inplace=False)\n",
    "print(f'\\nAny duplicates? {data.duplicated().values.any()}')\n",
    "print(f\"{data.duplicated().sum()} duplicated rows\")"
   ]
  },
  {
   "cell_type": "code",
   "execution_count": 49,
   "metadata": {},
   "outputs": [
    {
     "name": "stdout",
     "output_type": "stream",
     "text": [
      "Any NaN values among the data? False\n"
     ]
    }
   ],
   "source": [
    "# Check for null values\n",
    "print(f'Any NaN values among the data? {data.isna().values.any()}')"
   ]
  },
  {
   "cell_type": "code",
   "execution_count": 50,
   "metadata": {},
   "outputs": [
    {
     "data": {
      "text/plain": [
       "age         0\n",
       "sex         0\n",
       "cp          0\n",
       "trestbps    0\n",
       "chol        0\n",
       "fbs         0\n",
       "restecg     0\n",
       "thalach     0\n",
       "exang       0\n",
       "oldpeak     0\n",
       "slope       0\n",
       "ca          0\n",
       "thal        0\n",
       "target      0\n",
       "dtype: int64"
      ]
     },
     "execution_count": 50,
     "metadata": {},
     "output_type": "execute_result"
    }
   ],
   "source": [
    "# Count of the number of null values in each column\n",
    "data.isnull().sum()"
   ]
  },
  {
   "cell_type": "code",
   "execution_count": 51,
   "metadata": {},
   "outputs": [
    {
     "data": {
      "text/plain": [
       "age         0\n",
       "sex         0\n",
       "cp          0\n",
       "trestbps    0\n",
       "chol        0\n",
       "fbs         0\n",
       "restecg     0\n",
       "thalach     0\n",
       "exang       0\n",
       "oldpeak     0\n",
       "slope       0\n",
       "ca          0\n",
       "thal        0\n",
       "target      0\n",
       "dtype: int64"
      ]
     },
     "execution_count": 51,
     "metadata": {},
     "output_type": "execute_result"
    }
   ],
   "source": [
    "# Replace all NaN values with the median value of the column\n",
    "data = data.fillna(data.median())\n",
    "data.isnull().sum()"
   ]
  },
  {
   "cell_type": "markdown",
   "metadata": {},
   "source": [
    "Using the `.describe()` function, the minimum and maximum values for the categorical variables (sex, cp, fbs, restecg, exang, slope, ca, thal and target) are important to note. For the continuous variables (age, trestbps, chol, thalach and oldpeak), the mean, standard deviation and the quartiles will be vital in the data exploration process."
   ]
  },
  {
   "cell_type": "code",
   "execution_count": 52,
   "metadata": {
    "id": "C58HwrPdEeX7",
    "scrolled": false
   },
   "outputs": [
    {
     "data": {
      "text/html": [
       "<div>\n",
       "<style scoped>\n",
       "    .dataframe tbody tr th:only-of-type {\n",
       "        vertical-align: middle;\n",
       "    }\n",
       "\n",
       "    .dataframe tbody tr th {\n",
       "        vertical-align: top;\n",
       "    }\n",
       "\n",
       "    .dataframe thead th {\n",
       "        text-align: right;\n",
       "    }\n",
       "</style>\n",
       "<table border=\"1\" class=\"dataframe\">\n",
       "  <thead>\n",
       "    <tr style=\"text-align: right;\">\n",
       "      <th></th>\n",
       "      <th>age</th>\n",
       "      <th>sex</th>\n",
       "      <th>cp</th>\n",
       "      <th>trestbps</th>\n",
       "      <th>chol</th>\n",
       "      <th>fbs</th>\n",
       "      <th>restecg</th>\n",
       "      <th>thalach</th>\n",
       "      <th>exang</th>\n",
       "      <th>oldpeak</th>\n",
       "      <th>slope</th>\n",
       "      <th>ca</th>\n",
       "      <th>thal</th>\n",
       "      <th>target</th>\n",
       "    </tr>\n",
       "  </thead>\n",
       "  <tbody>\n",
       "    <tr>\n",
       "      <th>count</th>\n",
       "      <td>284.000000</td>\n",
       "      <td>284.000000</td>\n",
       "      <td>284.000000</td>\n",
       "      <td>284.000000</td>\n",
       "      <td>284.000000</td>\n",
       "      <td>284.000000</td>\n",
       "      <td>284.000000</td>\n",
       "      <td>284.000000</td>\n",
       "      <td>284.000000</td>\n",
       "      <td>284.000000</td>\n",
       "      <td>284.000000</td>\n",
       "      <td>284.000000</td>\n",
       "      <td>284.000000</td>\n",
       "      <td>284.000000</td>\n",
       "    </tr>\n",
       "    <tr>\n",
       "      <th>mean</th>\n",
       "      <td>54.070423</td>\n",
       "      <td>0.697183</td>\n",
       "      <td>3.133803</td>\n",
       "      <td>129.982394</td>\n",
       "      <td>242.535211</td>\n",
       "      <td>0.140845</td>\n",
       "      <td>0.978873</td>\n",
       "      <td>150.000000</td>\n",
       "      <td>0.316901</td>\n",
       "      <td>0.948592</td>\n",
       "      <td>1.570423</td>\n",
       "      <td>0.637324</td>\n",
       "      <td>4.658451</td>\n",
       "      <td>0.443662</td>\n",
       "    </tr>\n",
       "    <tr>\n",
       "      <th>std</th>\n",
       "      <td>9.118883</td>\n",
       "      <td>0.460288</td>\n",
       "      <td>0.963862</td>\n",
       "      <td>15.450927</td>\n",
       "      <td>44.730155</td>\n",
       "      <td>0.348476</td>\n",
       "      <td>0.998007</td>\n",
       "      <td>22.660967</td>\n",
       "      <td>0.466090</td>\n",
       "      <td>1.026141</td>\n",
       "      <td>0.599150</td>\n",
       "      <td>0.904727</td>\n",
       "      <td>1.927914</td>\n",
       "      <td>0.497693</td>\n",
       "    </tr>\n",
       "    <tr>\n",
       "      <th>min</th>\n",
       "      <td>29.000000</td>\n",
       "      <td>0.000000</td>\n",
       "      <td>1.000000</td>\n",
       "      <td>94.000000</td>\n",
       "      <td>126.000000</td>\n",
       "      <td>0.000000</td>\n",
       "      <td>0.000000</td>\n",
       "      <td>88.000000</td>\n",
       "      <td>0.000000</td>\n",
       "      <td>0.000000</td>\n",
       "      <td>1.000000</td>\n",
       "      <td>0.000000</td>\n",
       "      <td>3.000000</td>\n",
       "      <td>0.000000</td>\n",
       "    </tr>\n",
       "    <tr>\n",
       "      <th>25%</th>\n",
       "      <td>47.000000</td>\n",
       "      <td>0.000000</td>\n",
       "      <td>2.750000</td>\n",
       "      <td>120.000000</td>\n",
       "      <td>210.750000</td>\n",
       "      <td>0.000000</td>\n",
       "      <td>0.000000</td>\n",
       "      <td>133.750000</td>\n",
       "      <td>0.000000</td>\n",
       "      <td>0.000000</td>\n",
       "      <td>1.000000</td>\n",
       "      <td>0.000000</td>\n",
       "      <td>3.000000</td>\n",
       "      <td>0.000000</td>\n",
       "    </tr>\n",
       "    <tr>\n",
       "      <th>50%</th>\n",
       "      <td>55.000000</td>\n",
       "      <td>1.000000</td>\n",
       "      <td>3.000000</td>\n",
       "      <td>130.000000</td>\n",
       "      <td>239.500000</td>\n",
       "      <td>0.000000</td>\n",
       "      <td>0.000000</td>\n",
       "      <td>153.000000</td>\n",
       "      <td>0.000000</td>\n",
       "      <td>0.600000</td>\n",
       "      <td>2.000000</td>\n",
       "      <td>0.000000</td>\n",
       "      <td>3.000000</td>\n",
       "      <td>0.000000</td>\n",
       "    </tr>\n",
       "    <tr>\n",
       "      <th>75%</th>\n",
       "      <td>60.000000</td>\n",
       "      <td>1.000000</td>\n",
       "      <td>4.000000</td>\n",
       "      <td>140.000000</td>\n",
       "      <td>271.000000</td>\n",
       "      <td>0.000000</td>\n",
       "      <td>2.000000</td>\n",
       "      <td>168.000000</td>\n",
       "      <td>1.000000</td>\n",
       "      <td>1.600000</td>\n",
       "      <td>2.000000</td>\n",
       "      <td>1.000000</td>\n",
       "      <td>7.000000</td>\n",
       "      <td>1.000000</td>\n",
       "    </tr>\n",
       "    <tr>\n",
       "      <th>max</th>\n",
       "      <td>77.000000</td>\n",
       "      <td>1.000000</td>\n",
       "      <td>4.000000</td>\n",
       "      <td>170.000000</td>\n",
       "      <td>360.000000</td>\n",
       "      <td>1.000000</td>\n",
       "      <td>2.000000</td>\n",
       "      <td>202.000000</td>\n",
       "      <td>1.000000</td>\n",
       "      <td>4.000000</td>\n",
       "      <td>3.000000</td>\n",
       "      <td>3.000000</td>\n",
       "      <td>7.000000</td>\n",
       "      <td>1.000000</td>\n",
       "    </tr>\n",
       "  </tbody>\n",
       "</table>\n",
       "</div>"
      ],
      "text/plain": [
       "              age         sex          cp    trestbps        chol         fbs  \\\n",
       "count  284.000000  284.000000  284.000000  284.000000  284.000000  284.000000   \n",
       "mean    54.070423    0.697183    3.133803  129.982394  242.535211    0.140845   \n",
       "std      9.118883    0.460288    0.963862   15.450927   44.730155    0.348476   \n",
       "min     29.000000    0.000000    1.000000   94.000000  126.000000    0.000000   \n",
       "25%     47.000000    0.000000    2.750000  120.000000  210.750000    0.000000   \n",
       "50%     55.000000    1.000000    3.000000  130.000000  239.500000    0.000000   \n",
       "75%     60.000000    1.000000    4.000000  140.000000  271.000000    0.000000   \n",
       "max     77.000000    1.000000    4.000000  170.000000  360.000000    1.000000   \n",
       "\n",
       "          restecg     thalach       exang     oldpeak       slope          ca  \\\n",
       "count  284.000000  284.000000  284.000000  284.000000  284.000000  284.000000   \n",
       "mean     0.978873  150.000000    0.316901    0.948592    1.570423    0.637324   \n",
       "std      0.998007   22.660967    0.466090    1.026141    0.599150    0.904727   \n",
       "min      0.000000   88.000000    0.000000    0.000000    1.000000    0.000000   \n",
       "25%      0.000000  133.750000    0.000000    0.000000    1.000000    0.000000   \n",
       "50%      0.000000  153.000000    0.000000    0.600000    2.000000    0.000000   \n",
       "75%      2.000000  168.000000    1.000000    1.600000    2.000000    1.000000   \n",
       "max      2.000000  202.000000    1.000000    4.000000    3.000000    3.000000   \n",
       "\n",
       "             thal      target  \n",
       "count  284.000000  284.000000  \n",
       "mean     4.658451    0.443662  \n",
       "std      1.927914    0.497693  \n",
       "min      3.000000    0.000000  \n",
       "25%      3.000000    0.000000  \n",
       "50%      3.000000    0.000000  \n",
       "75%      7.000000    1.000000  \n",
       "max      7.000000    1.000000  "
      ]
     },
     "execution_count": 52,
     "metadata": {},
     "output_type": "execute_result"
    }
   ],
   "source": [
    "# Summary of all columns\n",
    "data.describe()"
   ]
  },
  {
   "cell_type": "markdown",
   "metadata": {
    "id": "KTxaI2KoEeY3"
   },
   "source": [
    "## 4. Data Exploration"
   ]
  },
  {
   "cell_type": "code",
   "execution_count": 53,
   "metadata": {},
   "outputs": [
    {
     "data": {
      "image/png": "[encoded data removed]",
      "text/plain": [
       "<Figure size 1440x720 with 14 Axes>"
      ]
     },
     "metadata": {
      "needs_background": "light"
     },
     "output_type": "display_data"
    }
   ],
   "source": [
    "# Boxplot of each column to visualise the distribution of data\n",
    "data.plot(kind='box', \n",
    "          subplots=True, \n",
    "          sharex=False, \n",
    "          sharey=False, \n",
    "          layout=(2, 7), \n",
    "          figsize=(20, 10), \n",
    "          title='Boxplots', \n",
    "          grid=True, \n",
    "          fontsize=10);"
   ]
  },
  {
   "cell_type": "markdown",
   "metadata": {},
   "source": [
    "#### Identify outliers"
   ]
  },
  {
   "cell_type": "code",
   "execution_count": 54,
   "metadata": {},
   "outputs": [
    {
     "name": "stdout",
     "output_type": "stream",
     "text": [
      "There are 0 outliers for the feature age\n",
      "Int64Index([], dtype='int64')\n",
      "There are 0 outliers for the feature trestbps\n",
      "Int64Index([], dtype='int64')\n",
      "There are 0 outliers for the feature chol\n",
      "Int64Index([], dtype='int64')\n",
      "There are 0 outliers for the feature thalach\n",
      "Int64Index([], dtype='int64')\n",
      "There are 0 outliers for the feature oldpeak\n",
      "Int64Index([], dtype='int64')\n"
     ]
    }
   ],
   "source": [
    "continuous_variables = ['age', 'trestbps', 'chol', 'thalach', 'oldpeak']  \n",
    "\n",
    "def drop_outliers(extracted_data, drop=False):\n",
    "    for feature in extracted_data.columns:\n",
    "        feature_data = extracted_data[feature]\n",
    "        \n",
    "        # Quartile 1 - 25th percentile of data\n",
    "        Q1 = np.percentile(feature_data, 25)\n",
    "        \n",
    "        # Quartile 3 - 75th percentile of data\n",
    "        Q3 = np.percentile(feature_data, 75)\n",
    "        \n",
    "        # Interquartile range\n",
    "        IQR = Q3 - Q1\n",
    "        \n",
    "        # Significant outliers: low outliers are below Q1 - 1.5IQR and high outliers are above Q3 + 1.5IQR\n",
    "        low_outlier = Q1 - IQR * 1.5\n",
    "        high_outlier = Q3 + IQR * 1.5\n",
    "\n",
    "        outliers = feature_data[((feature_data < low_outlier) | (feature_data > high_outlier))].index\n",
    "        if drop == False:\n",
    "            print(f'There are {len(outliers)} outliers for the feature {feature}')\n",
    "            print(outliers)\n",
    "        if drop == True:\n",
    "            # For duplicate indexes in the list, error is ignored and remaining indexes are dropped \n",
    "            data.drop(outliers, inplace=True, errors='ignore')\n",
    "            print(f'{len(outliers)} Outliers from feature {feature} are removed')\n",
    "            print(outliers)\n",
    "\n",
    "drop_outliers(data[continuous_variables])"
   ]
  },
  {
   "cell_type": "code",
   "execution_count": 55,
   "metadata": {
    "scrolled": false
   },
   "outputs": [
    {
     "name": "stdout",
     "output_type": "stream",
     "text": [
      "0 Outliers from feature age are removed\n",
      "Int64Index([], dtype='int64')\n",
      "0 Outliers from feature trestbps are removed\n",
      "Int64Index([], dtype='int64')\n",
      "0 Outliers from feature chol are removed\n",
      "Int64Index([], dtype='int64')\n",
      "0 Outliers from feature thalach are removed\n",
      "Int64Index([], dtype='int64')\n",
      "0 Outliers from feature oldpeak are removed\n",
      "Int64Index([], dtype='int64')\n"
     ]
    }
   ],
   "source": [
    "# Drop outliers\n",
    "drop_outliers(data[continuous_variables], drop=True)"
   ]
  },
  {
   "cell_type": "code",
   "execution_count": 56,
   "metadata": {
    "scrolled": true
   },
   "outputs": [
    {
     "data": {
      "text/plain": [
       "(284, 14)"
      ]
     },
     "execution_count": 56,
     "metadata": {},
     "output_type": "execute_result"
    }
   ],
   "source": [
    "data.shape"
   ]
  },
  {
   "cell_type": "markdown",
   "metadata": {},
   "source": [
    "### Distributions"
   ]
  },
  {
   "cell_type": "markdown",
   "metadata": {},
   "source": [
    "#### Age Variable (`age`)"
   ]
  },
  {
   "cell_type": "code",
   "execution_count": 57,
   "metadata": {
    "scrolled": false
   },
   "outputs": [
    {
     "name": "stdout",
     "output_type": "stream",
     "text": [
      "58    18\n",
      "57    17\n",
      "54    15\n",
      "60    12\n",
      "59    12\n",
      "52    12\n",
      "51    11\n",
      "44    11\n",
      "41    10\n",
      "64     9\n",
      "62     9\n",
      "56     9\n",
      "63     8\n",
      "61     8\n",
      "53     8\n",
      "45     8\n",
      "42     8\n",
      "43     8\n",
      "46     7\n",
      "67     7\n",
      "50     7\n",
      "65     7\n",
      "48     7\n",
      "55     6\n",
      "66     6\n",
      "47     5\n",
      "49     5\n",
      "70     4\n",
      "39     4\n",
      "35     4\n",
      "69     3\n",
      "68     3\n",
      "40     3\n",
      "71     3\n",
      "37     2\n",
      "38     2\n",
      "34     2\n",
      "76     1\n",
      "29     1\n",
      "74     1\n",
      "77     1\n",
      "Name: age, dtype: int64\n"
     ]
    },
    {
     "data": {
      "image/png": "[encoded data removed]",
      "text/plain": [
       "<Figure size 1080x576 with 1 Axes>"
      ]
     },
     "metadata": {
      "needs_background": "light"
     },
     "output_type": "display_data"
    }
   ],
   "source": [
    "# Number of instances for each attribute in the 'age' column\n",
    "print(data['age'].value_counts())\n",
    "\n",
    "# Plot histogram\n",
    "fig, ax = plt.subplots(figsize=(15, 8))\n",
    "ax.set_facecolor('white')\n",
    "ax = data['age'].hist(edgecolor='white').plot(kind='bar')\n",
    "ax = list(ax)\n",
    "\n",
    "# Formatting the graph\n",
    "plt.title('Age Distribution', fontsize=16)\n",
    "plt.ylabel('Population', fontsize=14)\n",
    "plt.xlabel('Age', fontsize=14)\n",
    "plt.grid(False)\n",
    "\n",
    "plt.show()"
   ]
  },
  {
   "cell_type": "markdown",
   "metadata": {},
   "source": [
    "Most of the patients in this study are in their 50s and 60s. The mean age is 54 years olds, where the youngest patient is 29 years old and the oldest is 77 years old."
   ]
  },
  {
   "cell_type": "code",
   "execution_count": 58,
   "metadata": {
    "scrolled": false
   },
   "outputs": [
    {
     "data": {
      "image/png": "[encoded data removed]",
      "text/plain": [
       "<Figure size 1080x576 with 1 Axes>"
      ]
     },
     "metadata": {
      "needs_background": "light"
     },
     "output_type": "display_data"
    },
    {
     "data": {
      "image/png": "[encoded data removed]",
      "text/plain": [
       "<Figure size 1080x576 with 1 Axes>"
      ]
     },
     "metadata": {
      "needs_background": "light"
     },
     "output_type": "display_data"
    }
   ],
   "source": [
    "# No_Disease = 0, Disease = 1\n",
    "no_HD = data[data['target'] == 0]\n",
    "HD = data[data['target'] == 1]\n",
    "\n",
    "# Plot of the age distribution of heart disease sufferers\n",
    "fig, ax = plt.subplots(figsize=(15, 8))\n",
    "ax.set_facecolor('white')\n",
    "ax = HD['age'].hist(edgecolor='white').plot(kind='bar')\n",
    "\n",
    "# Formatting the graph\n",
    "plt.title('Age Distribution of Patients with Heart Disease', fontsize=16)\n",
    "plt.ylabel('Population', fontsize=14)\n",
    "plt.xlabel('Age (Years)', fontsize=14)\n",
    "plt.grid(False)\n",
    "\n",
    "\n",
    "# Plot of the age distribution of patients who did not suffer from heart disease\n",
    "fig, ax = plt.subplots(figsize=(15, 8))\n",
    "ax.set_facecolor('white')\n",
    "ax = no_HD['age'].hist(edgecolor='white').plot(kind='bar')\n",
    "\n",
    "# Formatting the graph\n",
    "plt.title('Age Distribution of Patients without Heart Disease', fontsize=16)\n",
    "plt.ylabel('Population', fontsize=14)\n",
    "plt.xlabel('Age (Years)', fontsize=14)\n",
    "plt.grid(False)\n",
    "\n",
    "plt.show()"
   ]
  },
  {
   "cell_type": "markdown",
   "metadata": {},
   "source": [
    "It is a fairly normal distribution for those with and without heart disease. \n",
    "\n",
    "In the first plot, the highest population of ages affected by heart disease are centered around the middle of the distribution. Then there are smaller populations of ages affected on either side of the center.\n",
    "\n",
    "With these two plots, it is unclear to fully understand if age affects the presence of heart disease. This is because the patients in their 50s and 60s are probably over-represented, while the youngest and oldest patients are under-represented in this dataset."
   ]
  },
  {
   "cell_type": "markdown",
   "metadata": {},
   "source": [
    "#### Sex Variable (`sex`)"
   ]
  },
  {
   "cell_type": "code",
   "execution_count": 59,
   "metadata": {},
   "outputs": [
    {
     "name": "stdout",
     "output_type": "stream",
     "text": [
      "1    198\n",
      "0     86\n",
      "Name: sex, dtype: int64\n"
     ]
    },
    {
     "data": {
      "image/png": "[encoded data removed]",
      "text/plain": [
       "<Figure size 1080x576 with 1 Axes>"
      ]
     },
     "metadata": {
      "needs_background": "light"
     },
     "output_type": "display_data"
    }
   ],
   "source": [
    "# Number of instances for each attribute in the 'sex' column\n",
    "print(data['sex'].value_counts())\n",
    "\n",
    "# Plot bar chart according to each gender\n",
    "fig, ax = plt.subplots(figsize=(15, 8))\n",
    "ax = sns.countplot(x='sex', hue='target', data=data, edgecolor=sns.color_palette([\"#FFFFFF\"]))\n",
    "# No_Disease = 0, Disease = 1\n",
    "ax.legend(labels=['No_Disease', 'Disease'])\n",
    "\n",
    "# Formatting the graph\n",
    "ax.set_title('Sex Distribution', fontsize=16)\n",
    "ax.set_ylabel('Population', fontsize=14)\n",
    "ax.set_xticklabels(['Female', 'Male'], rotation=0)\n",
    "ax.set_xlabel('Sex', fontsize=14)\n",
    "\n",
    "totals = []  # Contains the number of instances for each attribute\n",
    "for l in ax.patches:\n",
    "    height = l.get_height()\n",
    "    totals.append(height)\n",
    "total = sum(totals)\n",
    "\n",
    "# Arrange text within bars\n",
    "for l in ax.patches:\n",
    "    width = l.get_width()\n",
    "    height = l.get_height()\n",
    "    x, y = l.get_xy()\n",
    "    ax.annotate(f'({height})', (x + width / 2, y + height / 2 - 4), ha='center', fontsize=12, color='white')\n",
    "    ax.annotate(f'{round((height / total) * 100, 2)}%', (x + width / 2, y + height / 2), ha='center', \n",
    "                fontsize=14, color='white', weight='bold')\n",
    "\n",
    "plt.show()"
   ]
  },
  {
   "cell_type": "markdown",
   "metadata": {},
   "source": [
    "There are more males among the patients with heart disease than females. Also, there is a higher proportion of males with heart disease than without heart disease compared to the female population."
   ]
  },
  {
   "cell_type": "markdown",
   "metadata": {},
   "source": [
    "#### Chest Pain Variable (`cp`)"
   ]
  },
  {
   "cell_type": "code",
   "execution_count": 60,
   "metadata": {},
   "outputs": [
    {
     "name": "stdout",
     "output_type": "stream",
     "text": [
      "4    131\n",
      "3     82\n",
      "2     49\n",
      "1     22\n",
      "Name: cp, dtype: int64\n"
     ]
    },
    {
     "data": {
      "image/png": "[encoded data removed]",
      "text/plain": [
       "<Figure size 1080x576 with 1 Axes>"
      ]
     },
     "metadata": {
      "needs_background": "light"
     },
     "output_type": "display_data"
    }
   ],
   "source": [
    "#  Number of instances for each attribute in the 'cp' column\n",
    "print(data['cp'].value_counts())\n",
    "\n",
    "# Plot bar chart according to each gender\n",
    "fig, ax = plt.subplots(figsize=(15, 8))\n",
    "ax = sns.countplot(x='cp', hue='target', data=data, edgecolor=sns.color_palette([\"#FFFFFF\"]))\n",
    "# No_Disease = 0, Disease = 1\n",
    "ax.legend(labels=['No_Disease', 'Disease'])\n",
    "\n",
    "# Formatting the graph\n",
    "ax.set_title('Cp Distribution', fontsize=16)\n",
    "ax.set_ylabel('Population', fontsize=14)\n",
    "ax.set_xticklabels(['Typical_Angina', 'Atypical_Angina', 'Non_Anginal_Pain', 'Asymptomatic'], rotation=0)\n",
    "ax.set_xlabel('Chest Pain Level', fontsize=14)\n",
    "\n",
    "totals = []  # Contains the number of instances for each attribute\n",
    "for l in ax.patches:\n",
    "    height = l.get_height()\n",
    "    totals.append(height)\n",
    "total = sum(totals)\n",
    "\n",
    "# Arrange text within bars\n",
    "for l in ax.patches:\n",
    "    width = l.get_width()\n",
    "    height = l.get_height()\n",
    "    x, y = l.get_xy()\n",
    "    ax.annotate(f'({height})', (x + width / 2, y + height / 2 - 4), ha='center', fontsize=12, color='white')\n",
    "    ax.annotate(f'{round((height / total) * 100, 2)}%', (x + width / 2, y + height / 2), ha='center', \n",
    "                fontsize=14, color='white', weight='bold')\n",
    "\n",
    "plt.show()"
   ]
  },
  {
   "cell_type": "markdown",
   "metadata": {},
   "source": [
    "Chest pain / angina is discomfort caused when there is an insufficient amount of oxygen and blood flow reaching the heart, triggering pain through the arms, shoulders, neck, etc. and tightness in the chest.\n",
    "\n",
    "The bar graph suggests a higher number of patients with no heart disease have typical angina, possibly due to age, gender, physical activity, stress etc. Those with the disease tend to have atypical symptoms, chest pain not caused by the lack of oxygen or even no symptoms at all."
   ]
  },
  {
   "cell_type": "markdown",
   "metadata": {},
   "source": [
    "#### Resting Blood Pressure Variable (`trestbps`)"
   ]
  },
  {
   "cell_type": "code",
   "execution_count": 61,
   "metadata": {},
   "outputs": [
    {
     "name": "stdout",
     "output_type": "stream",
     "text": [
      "130    36\n",
      "120    36\n",
      "140    28\n",
      "110    19\n",
      "150    16\n",
      "128    12\n",
      "138    12\n",
      "125    11\n",
      "160    10\n",
      "112     9\n",
      "132     8\n",
      "118     7\n",
      "108     6\n",
      "135     6\n",
      "124     6\n",
      "145     5\n",
      "152     5\n",
      "134     4\n",
      "100     4\n",
      "170     4\n",
      "122     4\n",
      "136     3\n",
      "126     3\n",
      "105     3\n",
      "142     3\n",
      "146     2\n",
      "144     2\n",
      "102     2\n",
      "148     2\n",
      "94      2\n",
      "115     2\n",
      "106     1\n",
      "117     1\n",
      "104     1\n",
      "123     1\n",
      "154     1\n",
      "155     1\n",
      "156     1\n",
      "158     1\n",
      "101     1\n",
      "164     1\n",
      "165     1\n",
      "129     1\n",
      "Name: trestbps, dtype: int64\n"
     ]
    },
    {
     "data": {
      "image/png": "[encoded data removed]",
      "text/plain": [
       "<Figure size 1080x576 with 1 Axes>"
      ]
     },
     "metadata": {
      "needs_background": "light"
     },
     "output_type": "display_data"
    }
   ],
   "source": [
    "# Number of instances for each attribute in the 'trestbps' column\n",
    "print(data['trestbps'].value_counts())\n",
    "\n",
    "# Plot histogram\n",
    "fig, ax = plt.subplots(figsize=(15, 8))\n",
    "ax.set_facecolor('white')\n",
    "ax = data['trestbps'].hist(edgecolor='white').plot(kind='bar')\n",
    "\n",
    "# Formatting the graph\n",
    "plt.title('Trestbps Distribution', fontsize=16)\n",
    "plt.ylabel('Population', fontsize=14)\n",
    "plt.xlabel('Resting Blood Pressure (mmHg)', fontsize=14)\n",
    "plt.grid(False)\n",
    "    \n",
    "plt.show()"
   ]
  },
  {
   "cell_type": "markdown",
   "metadata": {},
   "source": [
    "#### Cholesterol Variable (`chol`)"
   ]
  },
  {
   "cell_type": "code",
   "execution_count": 62,
   "metadata": {},
   "outputs": [
    {
     "name": "stdout",
     "output_type": "stream",
     "text": [
      "197    6\n",
      "204    6\n",
      "234    6\n",
      "269    5\n",
      "212    5\n",
      "      ..\n",
      "224    1\n",
      "215    1\n",
      "210    1\n",
      "200    1\n",
      "360    1\n",
      "Name: chol, Length: 143, dtype: int64\n"
     ]
    },
    {
     "data": {
      "image/png": "[encoded data removed]",
      "text/plain": [
       "<Figure size 1080x576 with 1 Axes>"
      ]
     },
     "metadata": {
      "needs_background": "light"
     },
     "output_type": "display_data"
    }
   ],
   "source": [
    "# Number of instances for each attribute in the 'chol' column\n",
    "print(data['chol'].value_counts())\n",
    "\n",
    "# Plot histogram\n",
    "fig, ax = plt.subplots(figsize=(15, 8))\n",
    "ax.set_facecolor('white')\n",
    "ax = data['chol'].hist(edgecolor='white').plot(kind='bar')\n",
    "\n",
    "# Formatting the graph\n",
    "plt.title('Chol Distribution', fontsize=16)\n",
    "plt.ylabel('Population', fontsize=14)\n",
    "plt.xlabel('Serum Cholesterol (mg/dl)', fontsize=14)\n",
    "plt.grid(False)\n",
    "    \n",
    "plt.show()"
   ]
  },
  {
   "cell_type": "markdown",
   "metadata": {},
   "source": [
    "#### Fasting Blood Sugar Variable (`fbs`)"
   ]
  },
  {
   "cell_type": "code",
   "execution_count": 63,
   "metadata": {},
   "outputs": [
    {
     "name": "stdout",
     "output_type": "stream",
     "text": [
      "0    244\n",
      "1     40\n",
      "Name: fbs, dtype: int64\n"
     ]
    },
    {
     "data": {
      "image/png": "[encoded data removed]",
      "text/plain": [
       "<Figure size 1080x576 with 1 Axes>"
      ]
     },
     "metadata": {
      "needs_background": "light"
     },
     "output_type": "display_data"
    }
   ],
   "source": [
    "#  Number of instances for each attribute in the 'fbs' column\n",
    "print(data['fbs'].value_counts())\n",
    "\n",
    "# Plot bar chart according to each gender\n",
    "fig, ax = plt.subplots(figsize=(15, 8))\n",
    "ax = sns.countplot(x='fbs', hue='target', data=data, edgecolor=sns.color_palette([\"#FFFFFF\"]))\n",
    "# False = 0, True = 1\n",
    "ax.legend(labels=['False', 'True'])\n",
    "\n",
    "# Formatting the graph\n",
    "ax.set_title('Fbs Distribution', fontsize=16)\n",
    "ax.set_ylabel('Population', fontsize=14)\n",
    "ax.set_xticklabels(['False', 'True'], rotation=0)\n",
    "ax.set_xlabel('Chest Pain Level', fontsize=14)\n",
    "\n",
    "totals = []  # Contains the number of instances for each attribute\n",
    "for l in ax.patches:\n",
    "    height = l.get_height()\n",
    "    totals.append(height)\n",
    "total = sum(totals)\n",
    "\n",
    "# Arrange text within bars\n",
    "for l in ax.patches:\n",
    "    width = l.get_width()\n",
    "    height = l.get_height()\n",
    "    x, y = l.get_xy()\n",
    "    ax.annotate(f'({height})', (x + width / 2, y + height / 2 - 5), ha='center', fontsize=12, color='white')\n",
    "    ax.annotate(f'{round((height / total) * 100, 2)}%', (x + width / 2, y + height / 2), ha='center', \n",
    "                fontsize=14, color='white', weight='bold')\n",
    "\n",
    "plt.show()"
   ]
  },
  {
   "cell_type": "markdown",
   "metadata": {},
   "source": [
    "#### ECG Variable (`restecg`)"
   ]
  },
  {
   "cell_type": "code",
   "execution_count": 64,
   "metadata": {},
   "outputs": [
    {
     "name": "stdout",
     "output_type": "stream",
     "text": [
      "0    144\n",
      "2    138\n",
      "1      2\n",
      "Name: restecg, dtype: int64\n"
     ]
    },
    {
     "data": {
      "image/png": "[encoded data removed]",
      "text/plain": [
       "<Figure size 1080x576 with 1 Axes>"
      ]
     },
     "metadata": {
      "needs_background": "light"
     },
     "output_type": "display_data"
    }
   ],
   "source": [
    "#  Number of instances for each attribute in the 'restecg' column\n",
    "print(data['restecg'].value_counts())\n",
    "\n",
    "# Plot bar chart according to each gender\n",
    "fig, ax = plt.subplots(figsize=(15, 8))\n",
    "ax = sns.countplot(x='restecg', hue='target', data=data, edgecolor=sns.color_palette([\"#FFFFFF\"]))\n",
    "# Normal = 0, Abnormality = 1, Hypertrophy = 2\n",
    "ax.legend(labels=['Normal', 'Abnormality', 'Hypertrophy'])\n",
    "\n",
    "# Formatting the graph\n",
    "ax.set_title('Restecg Distribution', fontsize=16)\n",
    "ax.set_ylabel('Population', fontsize=14)\n",
    "ax.set_xticklabels(['Normal', 'Abnormality', 'Hypertrophy'], rotation=0)\n",
    "ax.set_xlabel('Resting ECG Results', fontsize=14)\n",
    "\n",
    "totals = []  # Contains the number of instances for each attribute\n",
    "for l in ax.patches:\n",
    "    height = l.get_height()\n",
    "    totals.append(height)\n",
    "total = sum(totals)\n",
    "\n",
    "# Arrange text within bars\n",
    "for l in ax.patches:\n",
    "    width = l.get_width()\n",
    "    height = l.get_height()\n",
    "    x, y = l.get_xy()\n",
    "    ax.annotate(f'({height})', (x + width / 2, y + height / 2 - 5), ha='center', fontsize=12, color='white')\n",
    "    ax.annotate(f'{round((height / total) * 100, 2)}%', (x + width / 2, y + height / 2), ha='center', \n",
    "                fontsize=14, color='white', weight='bold')\n",
    "\n",
    "plt.show()"
   ]
  },
  {
   "cell_type": "markdown",
   "metadata": {},
   "source": [
    "#### Maximum Heart Rate Variable (`thalach`)"
   ]
  },
  {
   "cell_type": "code",
   "execution_count": 65,
   "metadata": {},
   "outputs": [
    {
     "name": "stdout",
     "output_type": "stream",
     "text": [
      "162    10\n",
      "163     9\n",
      "160     8\n",
      "152     8\n",
      "172     7\n",
      "       ..\n",
      "129     1\n",
      "133     1\n",
      "134     1\n",
      "137     1\n",
      "202     1\n",
      "Name: thalach, Length: 88, dtype: int64\n"
     ]
    },
    {
     "data": {
      "image/png": "[encoded data removed]",
      "text/plain": [
       "<Figure size 1080x576 with 1 Axes>"
      ]
     },
     "metadata": {
      "needs_background": "light"
     },
     "output_type": "display_data"
    }
   ],
   "source": [
    "# Number of instances for each attribute in the 'thalach' column\n",
    "print(data['thalach'].value_counts())\n",
    "\n",
    "# Plot histogram\n",
    "fig, ax = plt.subplots(figsize=(15, 8))\n",
    "ax.set_facecolor('white')\n",
    "ax = data['thalach'].hist(edgecolor='white').plot(kind='bar')\n",
    "\n",
    "# Formatting the graph\n",
    "plt.title('Thalach Distribution', fontsize=16)\n",
    "plt.ylabel('Population', fontsize=14)\n",
    "plt.xlabel('Maximum Heart Rate Achieved', fontsize=14)\n",
    "plt.grid(False)\n",
    "    \n",
    "plt.show()"
   ]
  },
  {
   "cell_type": "markdown",
   "metadata": {},
   "source": [
    "#### Angina due to Exercise Variable (`exang`)"
   ]
  },
  {
   "cell_type": "code",
   "execution_count": 66,
   "metadata": {},
   "outputs": [
    {
     "name": "stdout",
     "output_type": "stream",
     "text": [
      "0    194\n",
      "1     90\n",
      "Name: exang, dtype: int64\n"
     ]
    },
    {
     "data": {
      "image/png": "[encoded data removed]",
      "text/plain": [
       "<Figure size 1080x576 with 1 Axes>"
      ]
     },
     "metadata": {
      "needs_background": "light"
     },
     "output_type": "display_data"
    }
   ],
   "source": [
    "#  Number of instances for each attribute in the 'exang' column\n",
    "print(data['exang'].value_counts())\n",
    "\n",
    "# Plot bar chart according to each gender\n",
    "fig, ax = plt.subplots(figsize=(15, 8))\n",
    "ax = sns.countplot(x='exang', hue='target', data=data, edgecolor=sns.color_palette([\"#FFFFFF\"]))\n",
    "# No = 0, Yes = 1\n",
    "ax.legend(labels=['No', 'Yes'])\n",
    "\n",
    "# Formatting the graph\n",
    "ax.set_title('Exang Distribution', fontsize=16)\n",
    "ax.set_ylabel('Population', fontsize=14)\n",
    "ax.set_xticklabels(['No', 'Yes'], rotation=0)\n",
    "ax.set_xlabel('Exercise Induced Angina', fontsize=14)\n",
    "\n",
    "totals = []  # Contains the number of instances for each attribute\n",
    "for l in ax.patches:\n",
    "    height = l.get_height()\n",
    "    totals.append(height)\n",
    "total = sum(totals)\n",
    "\n",
    "# Arrange text within bars\n",
    "for l in ax.patches:\n",
    "    width = l.get_width()\n",
    "    height = l.get_height()\n",
    "    x, y = l.get_xy()\n",
    "    ax.annotate(f'({height})', (x + width / 2, y + height / 2 - 5), ha='center', fontsize=12, color='white')\n",
    "    ax.annotate(f'{round((height / total) * 100, 2)}%', (x + width / 2, y + height / 2), ha='center', \n",
    "                fontsize=14, color='white', weight='bold')\n",
    "\n",
    "plt.show()"
   ]
  },
  {
   "cell_type": "markdown",
   "metadata": {},
   "source": [
    "#### ST Depression Variable (`oldpeak`)"
   ]
  },
  {
   "cell_type": "code",
   "execution_count": 67,
   "metadata": {},
   "outputs": [
    {
     "name": "stdout",
     "output_type": "stream",
     "text": [
      "0.0    96\n",
      "1.2    16\n",
      "0.6    14\n",
      "1.4    13\n",
      "0.8    12\n",
      "1.0    12\n",
      "0.2    12\n",
      "1.8    10\n",
      "1.6     9\n",
      "0.4     9\n",
      "2.0     9\n",
      "0.1     7\n",
      "2.6     6\n",
      "2.8     6\n",
      "1.5     5\n",
      "3.0     5\n",
      "1.9     4\n",
      "0.5     4\n",
      "2.2     4\n",
      "3.6     4\n",
      "0.3     3\n",
      "0.9     3\n",
      "2.4     3\n",
      "1.1     2\n",
      "3.2     2\n",
      "2.5     2\n",
      "3.4     2\n",
      "2.3     2\n",
      "3.8     1\n",
      "1.3     1\n",
      "4.0     1\n",
      "3.5     1\n",
      "3.1     1\n",
      "2.9     1\n",
      "0.7     1\n",
      "2.1     1\n",
      "Name: oldpeak, dtype: int64\n"
     ]
    },
    {
     "data": {
      "image/png": "[encoded data removed]",
      "text/plain": [
       "<Figure size 1080x576 with 1 Axes>"
      ]
     },
     "metadata": {
      "needs_background": "light"
     },
     "output_type": "display_data"
    }
   ],
   "source": [
    "# Number of instances for each attribute in the 'oldpeak' column\n",
    "print(data['oldpeak'].value_counts())\n",
    "\n",
    "# Plot histogram\n",
    "fig, ax = plt.subplots(figsize=(15, 8))\n",
    "ax.set_facecolor('white')\n",
    "ax = data['oldpeak'].hist(edgecolor='white').plot(kind='bar')\n",
    "\n",
    "# Formatting the graph\n",
    "plt.title('Oldpeak Distribution', fontsize=16)\n",
    "plt.ylabel('Population', fontsize=14)\n",
    "plt.xlabel('Exercise Induced ST Depression', fontsize=14)\n",
    "plt.grid(False)\n",
    "    \n",
    "plt.show()"
   ]
  },
  {
   "cell_type": "markdown",
   "metadata": {},
   "source": [
    "#### Slope Variable (`slope`)"
   ]
  },
  {
   "cell_type": "code",
   "execution_count": 68,
   "metadata": {},
   "outputs": [
    {
     "name": "stdout",
     "output_type": "stream",
     "text": [
      "1    138\n",
      "2    130\n",
      "3     16\n",
      "Name: slope, dtype: int64\n"
     ]
    },
    {
     "data": {
      "image/png": "[encoded data removed]",
      "text/plain": [
       "<Figure size 1080x576 with 1 Axes>"
      ]
     },
     "metadata": {
      "needs_background": "light"
     },
     "output_type": "display_data"
    }
   ],
   "source": [
    "#  Number of instances for each attribute in the 'slope' column\n",
    "print(data['slope'].value_counts())\n",
    "\n",
    "# Plot bar chart according to each gender\n",
    "fig, ax = plt.subplots(figsize=(15, 8))\n",
    "ax = sns.countplot(x='slope', hue='target', data=data, edgecolor=sns.color_palette([\"#FFFFFF\"]))\n",
    "# Upsloping = 0, Flat = 1, Downsloping = 2\n",
    "ax.legend(labels=['Upsloping', 'Flat', 'Downsloping'])\n",
    "\n",
    "# Formatting the graph\n",
    "ax.set_title('Slope Distribution', fontsize=16)\n",
    "ax.set_ylabel('Population', fontsize=14)\n",
    "ax.set_xticklabels(['Upsloping', 'Flat', 'Downsloping'], rotation=0)\n",
    "ax.set_xlabel('Slope of Exercise Induced ST Segment', fontsize=14)\n",
    "\n",
    "totals = []  # Contains the number of instances for each attribute\n",
    "for l in ax.patches:\n",
    "    height = l.get_height()\n",
    "    totals.append(height)\n",
    "total = sum(totals)\n",
    "\n",
    "# Arrange text within bars\n",
    "for l in ax.patches:\n",
    "    width = l.get_width()\n",
    "    height = l.get_height()\n",
    "    x, y = l.get_xy()\n",
    "    ax.annotate(f'({height})', (x + width / 2, y + height / 2 - 5), ha='center', fontsize=12, color='white')\n",
    "    ax.annotate(f'{round((height / total) * 100, 2)}%', (x + width / 2, y + height / 2), ha='center', \n",
    "                fontsize=14, color='white', weight='bold')\n",
    "\n",
    "plt.show()"
   ]
  },
  {
   "cell_type": "markdown",
   "metadata": {},
   "source": [
    "#### Major Vessels Variable (`ca`)"
   ]
  },
  {
   "cell_type": "code",
   "execution_count": 70,
   "metadata": {},
   "outputs": [
    {
     "name": "stdout",
     "output_type": "stream",
     "text": [
      "0    170\n",
      "1     63\n",
      "2     35\n",
      "3     16\n",
      "Name: ca, dtype: int64\n"
     ]
    },
    {
     "data": {
      "image/png": "[encoded data removed]",
      "text/plain": [
       "<Figure size 1080x576 with 1 Axes>"
      ]
     },
     "metadata": {
      "needs_background": "light"
     },
     "output_type": "display_data"
    }
   ],
   "source": [
    "#  Number of instances for each attribute in the 'ca' column\n",
    "print(data['ca'].value_counts())\n",
    "\n",
    "# Plot bar chart according to each gender\n",
    "fig, ax = plt.subplots(figsize=(15, 8))\n",
    "ax = sns.countplot(x='ca', hue='target', data=data, edgecolor=sns.color_palette([\"#FFFFFF\"]))\n",
    "ax.legend(labels=['0', '1', '2', '3'])\n",
    "\n",
    "# Formatting the graph\n",
    "ax.set_title('Ca Distribution', fontsize=16)\n",
    "ax.set_ylabel('Population', fontsize=14)\n",
    "ax.set_xticklabels(['0', '1', '2', '3'], rotation=0)\n",
    "ax.set_xlabel('Major Vessels', fontsize=14)\n",
    "\n",
    "totals = []  # Contains the number of instances for each attribute\n",
    "for l in ax.patches:\n",
    "    height = l.get_height()\n",
    "    totals.append(height)\n",
    "total = sum(totals)\n",
    "\n",
    "# Arrange text within bars\n",
    "for l in ax.patches:\n",
    "    width = l.get_width()\n",
    "    height = l.get_height()\n",
    "    x, y = l.get_xy()\n",
    "    ax.annotate(f'({height})', (x + width / 2, y + height / 2 - 5), ha='center', fontsize=12, color='white')\n",
    "    ax.annotate(f'{round((height / total) * 100, 2)}%', (x + width / 2, y + height / 2), ha='center', \n",
    "                fontsize=14, color='white', weight='bold')\n",
    "\n",
    "plt.show()"
   ]
  },
  {
   "cell_type": "markdown",
   "metadata": {},
   "source": [
    "#### Thalassemia Variable (`thal`)"
   ]
  },
  {
   "cell_type": "code",
   "execution_count": 71,
   "metadata": {},
   "outputs": [
    {
     "name": "stdout",
     "output_type": "stream",
     "text": [
      "3    162\n",
      "7    105\n",
      "6     17\n",
      "Name: thal, dtype: int64\n"
     ]
    },
    {
     "data": {
      "image/png": "[encoded data removed]",
      "text/plain": [
       "<Figure size 1080x576 with 1 Axes>"
      ]
     },
     "metadata": {
      "needs_background": "light"
     },
     "output_type": "display_data"
    }
   ],
   "source": [
    "#  Number of instances for each attribute in the 'thal' column\n",
    "print(data['thal'].value_counts())\n",
    "\n",
    "# Plot bar chart according to each gender\n",
    "fig, ax = plt.subplots(figsize=(15, 8))\n",
    "ax = sns.countplot(x='thal', hue='target', data=data, edgecolor=sns.color_palette([\"#FFFFFF\"]))\n",
    "# Fixed Defect = 1, Normal = 2, Reversable Defect = 3\n",
    "ax.legend(labels=['Fixed Defect', 'Normal', 'Reversable Defect'])\n",
    "\n",
    "# Formatting the graph\n",
    "ax.set_title('Thal Distribution', fontsize=16)\n",
    "ax.set_ylabel('Population', fontsize=14)\n",
    "ax.set_xticklabels(['Fixed Defect', 'Normal', 'Reversable Defect'], rotation=0)\n",
    "ax.set_xlabel('Thalassemia Type', fontsize=14)\n",
    "\n",
    "totals = []  # Contains the number of instances for each attribute\n",
    "for l in ax.patches:\n",
    "    height = l.get_height()\n",
    "    totals.append(height)\n",
    "total = sum(totals)\n",
    "\n",
    "# Arrange text within bars\n",
    "for l in ax.patches:\n",
    "    width = l.get_width()\n",
    "    height = l.get_height()\n",
    "    x, y = l.get_xy()\n",
    "    ax.annotate(f'({height})', (x + width / 2, y + height / 2 - 5), ha='center', fontsize=12, color='white')\n",
    "    ax.annotate(f'{round((height / total) * 100, 2)}%', (x + width / 2, y + height / 2), ha='center', \n",
    "                fontsize=14, color='white', weight='bold')\n",
    "\n",
    "plt.show()"
   ]
  },
  {
   "cell_type": "markdown",
   "metadata": {},
   "source": [
    "#### Target Variable"
   ]
  },
  {
   "cell_type": "code",
   "execution_count": 72,
   "metadata": {},
   "outputs": [
    {
     "name": "stdout",
     "output_type": "stream",
     "text": [
      "0    158\n",
      "1    126\n",
      "Name: target, dtype: int64\n"
     ]
    },
    {
     "data": {
      "image/png": "[encoded data removed]",
      "text/plain": [
       "<Figure size 1080x576 with 1 Axes>"
      ]
     },
     "metadata": {
      "needs_background": "light"
     },
     "output_type": "display_data"
    }
   ],
   "source": [
    "# Number of instances for each attribute in the 'target' column\n",
    "print(data['target'].value_counts())\n",
    "\n",
    "# Plot bar chart\n",
    "fig, ax = plt.subplots(figsize=(15, 8))\n",
    "name = ['Disease', 'No Disease']\n",
    "ax = data['target'].value_counts().plot(kind='bar')\n",
    "\n",
    "# Formatting the graph\n",
    "ax.set_title('Target Distribution', fontsize=16)\n",
    "ax.set_ylabel('Population', fontsize=14)\n",
    "ax.set_xticklabels(name, rotation=0)\n",
    "ax.set_xlabel('Heart Disease', fontsize=14)\n",
    "\n",
    "totals = []  # Contains the number of instances for each attribute\n",
    "for l in ax.patches:\n",
    "    height = l.get_height()\n",
    "    totals.append(height)\n",
    "total = sum(totals)\n",
    "\n",
    "# Arrange text within bars\n",
    "for l in ax.patches:\n",
    "    width = l.get_width()\n",
    "    height = l.get_height()\n",
    "    x, y = l.get_xy()\n",
    "    ax.annotate(f'({height})', (x + width / 2, y + height / 2 - 6), ha='center', fontsize=12, color='white')\n",
    "    ax.annotate(f'{round((height / total) * 100, 2)}%', (x + width / 2, y + height / 2), ha='center', \n",
    "                fontsize=14, color='white', weight='bold')\n",
    "\n",
    "plt.show()"
   ]
  },
  {
   "cell_type": "code",
   "execution_count": 73,
   "metadata": {},
   "outputs": [],
   "source": [
    "data = data.to_csv('heart_data.csv', index=False)"
   ]
  }
 ],
 "metadata": {
  "colab": {
   "collapsed_sections": [
    "2resCYoCEeX6",
    "xtv-4rTcEeX7",
    "QrUp0pgOEeX8",
    "7cHm2H7CEeX8",
    "lWOKZZUEEeX8",
    "Vm49oerCEeX9",
    "I1NugM2QEeX-",
    "jV9f5Qx56C_n"
   ],
   "name": "1. Data Exploration and Cleaning and Machine Learning Algorithms.ipynb",
   "provenance": []
  },
  "kernelspec": {
   "display_name": "Python 3",
   "language": "python",
   "name": "python3"
  },
  "language_info": {
   "codemirror_mode": {
    "name": "ipython",
    "version": 3
   },
   "file_extension": ".py",
   "mimetype": "text/x-python",
   "name": "python",
   "nbconvert_exporter": "python",
   "pygments_lexer": "ipython3",
   "version": "3.7.9"
  }
 },
 "nbformat": 4,
 "nbformat_minor": 1
}
